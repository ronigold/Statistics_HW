{
 "cells": [
  {
   "cell_type": "markdown",
   "metadata": {},
   "source": [
    "### IDs:\n",
    "Insert yours IDs to the cell below"
   ]
  },
  {
   "cell_type": "markdown",
   "metadata": {},
   "source": [
    "ID #1: 312146343\n",
    "\n",
    "ID #2:\n"
   ]
  },
  {
   "cell_type": "code",
   "execution_count": 1,
   "metadata": {},
   "outputs": [],
   "source": [
    "import numpy as np\n",
    "import pandas as pd\n",
    "import matplotlib.pyplot as plt\n",
    "from scipy import stats\n",
    "import plotly.express as px\n",
    "import random\n",
    "import seaborn as sns\n",
    "import pandas as pd\n",
    "sns.set()"
   ]
  },
  {
   "cell_type": "markdown",
   "metadata": {},
   "source": [
    "## Read the following instructions carefully:\n",
    "\n",
    "1. This jupyter notebook contains all the step by step instructions needed for this exercise.\n",
    "1. You are free to add cells.\n",
    "1. Write your functions and your answers in this jupyter notebook only.\n",
    "1. Answers to theoretical questions should be written in **markdown cells (with $\\LaTeX$ support)**.\n",
    "1. Submit this jupyter notebook only using your ID as a filename. Not to use ZIP or RAR. For example, your Moodle submission file name should look like this (two id numbers): `123456789_987654321.ipynb`."
   ]
  },
  {
   "cell_type": "markdown",
   "metadata": {},
   "source": [
    "### Question 1 - Defective products"
   ]
  },
  {
   "cell_type": "markdown",
   "metadata": {},
   "source": [
    "In a manufacturing pipeline products are 3% defective. We are interested in examining a defective product to see what goes wrong on the belt. We need to ask the facility manager to send us a set of independent samples for examination."
   ]
  },
  {
   "cell_type": "markdown",
   "metadata": {},
   "source": [
    "#### 1.A\n",
    "\n",
    "How many independent samples should we ask for in order to have a 85% probability of having at least one defective product in the batch sent? You should write a function."
   ]
  },
  {
   "cell_type": "markdown",
   "metadata": {},
   "source": [
    "**Define X is the number of defectve product in the batch**  \n",
    "**Define n is the number of independent samples we should ask for**\n",
    "$$P(X\\geq1)=85\\%$$\n",
    "$$P(X\\geq1)=1-P(X=0)=85\\%$$\n",
    "$$P(X=0)=1-85\\%=(1-3\\%)^n$$"
   ]
  },
  {
   "cell_type": "code",
   "execution_count": 2,
   "metadata": {},
   "outputs": [],
   "source": [
    "def num_samples(p, target_prob):\n",
    "    n = 1\n",
    "    while ((1-p)**n) >= (1-target_prob):\n",
    "        n = n + 1\n",
    "    return n"
   ]
  },
  {
   "cell_type": "code",
   "execution_count": 3,
   "metadata": {},
   "outputs": [
    {
     "data": {
      "text/plain": [
       "63"
      ]
     },
     "execution_count": 3,
     "metadata": {},
     "output_type": "execute_result"
    }
   ],
   "source": [
    "num_samples(p = 0.03, target_prob =0.85)"
   ]
  },
  {
   "cell_type": "markdown",
   "metadata": {},
   "source": [
    "#### 1.B\n",
    "Answer this part again with the following changes: products are 4% defective and we want a 95% probability of at least one defective product in the batch."
   ]
  },
  {
   "cell_type": "code",
   "execution_count": 4,
   "metadata": {},
   "outputs": [
    {
     "data": {
      "text/plain": [
       "74"
      ]
     },
     "execution_count": 4,
     "metadata": {},
     "output_type": "execute_result"
    }
   ],
   "source": [
    "num_samples(p = 0.04, target_prob =0.95)"
   ]
  },
  {
   "cell_type": "markdown",
   "metadata": {},
   "source": [
    "#### 1.C \n",
    "\n",
    "Consider the following cases and calculate how many independent samples are required: \n",
    "\n",
    "1. Products are 10% defective and we want a 90% probability of at least 5 defective products in the batch.\n",
    "1. Products are 30% defective and we want a 90% probability of at least 15 defective products in the batch.\n",
    "\n",
    "Explain the difference between the two results. You should use mathematical reasoning based on the properties of distributions you saw in class and visualizations in your answer."
   ]
  },
  {
   "cell_type": "markdown",
   "metadata": {},
   "source": [
    "**Define X is the number of defectve product in the batch**  \n",
    "**Define n is the number of independent samples we should ask for**  \n",
    "**Define k is the required number of defectve product we want**  \n",
    "\n",
    "$$X\\sim B(n, p)$$  \n",
    "\n",
    "1. 10% defective and we want a 90% probability of at least 5 defective products\n",
    "$$X\\sim B(n, 0.1)$$  \n",
    "$$P(X\\geq5)=90\\%$$  \n",
    "$$P(X\\geq5)=1-P(X=0)-P(X=1)-P(X=2)-P(X=3)-P(X=4)=90\\%$$  \n",
    "$$P(X\\geq5)=1-CDF(4)=90\\%$$  "
   ]
  },
  {
   "cell_type": "code",
   "execution_count": 5,
   "metadata": {},
   "outputs": [],
   "source": [
    "def num_samples_2(p, target_prob, k):\n",
    "    n = 1\n",
    "    rv = stats.binom(n, p)\n",
    "    while 1 - rv.cdf(k-1) < target_prob:\n",
    "        n = n + 1\n",
    "        rv = stats.binom(n, p)\n",
    "    return n"
   ]
  },
  {
   "cell_type": "code",
   "execution_count": 6,
   "metadata": {},
   "outputs": [
    {
     "data": {
      "text/plain": [
       "78"
      ]
     },
     "execution_count": 6,
     "metadata": {},
     "output_type": "execute_result"
    }
   ],
   "source": [
    "num_samples_2(p = 0.1, target_prob = 0.90, k = 5)"
   ]
  },
  {
   "cell_type": "markdown",
   "metadata": {},
   "source": [
    "2. 30% defective and we want a 90% probability of at least 15 defective products\n",
    "$$X\\sim B(n, 0.3)$$  \n",
    "$$P(X\\geq15)=90\\%$$  \n",
    "$$P(X\\geq15)=1-CDF(14)=90\\%$$  "
   ]
  },
  {
   "cell_type": "code",
   "execution_count": 7,
   "metadata": {},
   "outputs": [
    {
     "data": {
      "text/plain": [
       "64"
      ]
     },
     "execution_count": 7,
     "metadata": {},
     "output_type": "execute_result"
    }
   ],
   "source": [
    "num_samples_2(p = 0.3, target_prob =0.90, k = 15)"
   ]
  },
  {
   "cell_type": "markdown",
   "metadata": {},
   "source": [
    "### Question 2 - Rent distributions in Randomistan"
   ]
  },
  {
   "cell_type": "markdown",
   "metadata": {},
   "source": [
    "The state of Randomistan conducted a survey to study the distribution of rent paid in two neighboring towns, Stochastic Heights and Random Grove, to be denoted SH and RG.<br> \n",
    "\n",
    "Here are some findings of the survey:\n",
    "* The population of SH and RG is 16,000 and 22,000 respectively. <br>\n",
    "* The mean rent in SH and RG is 6300RCU and 4200RCU respectively.\n",
    "* The median rent is 4600RCU in both towns.\n",
    "* The IQR of the rent is smaller in SH than in RG.\n",
    "\n",
    "All data generated in this question needs to be consistent with these findings."
   ]
  },
  {
   "cell_type": "markdown",
   "metadata": {},
   "source": [
    "#### 2.A\n",
    "Draw histograms that describe 2 different scenarii of possible distributions of rent in the two towns.\u000b",
    "Your histograms should:<br>\n",
    "* Use bins of 100RCU each.\n",
    "* Have at least 10 non zero bins."
   ]
  },
  {
   "cell_type": "code",
   "execution_count": 8,
   "metadata": {},
   "outputs": [],
   "source": [
    "def ganrate_2_dists(medianA, meanA, num_samplesA, max_rangeA, medianB, meanB, num_samplesB, max_rangeB):\n",
    "\n",
    "    def find_dist_mean(current_mean, desired_median):\n",
    "        return int(2*desired_median-current_mean)\n",
    "\n",
    "    def create_dist_with_mean(num_samples, mean, eps):\n",
    "        res = []\n",
    "        for idx in range(num_samples//2):\n",
    "            random_number = random.randint(mean,mean+eps)\n",
    "            res.append(random_number)\n",
    "            res.append(mean - (random_number - mean))\n",
    "        return list(res)\n",
    "\n",
    "    def create_random_dist(num_samples, start, end):\n",
    "        return [random.randint(start,end) for i in range(num_samples)]\n",
    "\n",
    "    def get_median_arr(num_samples, median):\n",
    "        if num_samples%2 == 0:\n",
    "            half_num_samples = num_samples//2 - 1\n",
    "            median_arr = [median, median, median]\n",
    "        else:\n",
    "            half_num_samples = num_samples//2\n",
    "            median_arr = [median]\n",
    "        return median_arr, half_num_samples\n",
    "    \n",
    "    def ganrate_dist(median, mean, num_samples,max_range):\n",
    "        median_arr, half_num_samples = get_median_arr(num_samples, median)\n",
    "        if median<=mean:\n",
    "            bottom_half = create_random_dist(half_num_samples, 0, median-1)\n",
    "            top_half = create_dist_with_mean(num_samples = half_num_samples, mean = find_dist_mean(np.mean(bottom_half), mean), eps = (mean-median))\n",
    "        else:\n",
    "            top_half = create_random_dist(half_num_samples, median+1, max_range)\n",
    "            bottom_half = create_dist_with_mean(num_samples = half_num_samples, mean = find_dist_mean(np.mean(top_half), mean), eps = (median-mean))\n",
    "        return np.array(bottom_half + median_arr + top_half)\n",
    "    \n",
    "    return ganrate_dist(medianA, meanA, num_samplesA, max_rangeA), ganrate_dist(medianB, meanB, num_samplesB, max_rangeB)\n",
    "\n",
    "def print_dist_metrics(dist):\n",
    "    print(f'Size: {len(dist)}')\n",
    "    print(f'Mean: {np.mean(dist)}')\n",
    "    print(f'Median: {np.median(dist)}')\n",
    "    print(f'IQR: {stats.iqr(dist)}')\n",
    "    print(f'Variance: {np.var(dist)}')"
   ]
  },
  {
   "cell_type": "code",
   "execution_count": 9,
   "metadata": {},
   "outputs": [
    {
     "name": "stdout",
     "output_type": "stream",
     "text": [
      "CPU times: user 37.9 ms, sys: 1.99 ms, total: 39.9 ms\n",
      "Wall time: 37.7 ms\n"
     ]
    }
   ],
   "source": [
    "%%time\n",
    "distSH, distRG = ganrate_2_dists(medianA = 4600, meanA = 6300, num_samplesA = 16000, max_rangeA = 8000, medianB = 4600, meanB = 4200, num_samplesB = 22000, max_rangeB = 12000)"
   ]
  },
  {
   "cell_type": "code",
   "execution_count": 10,
   "metadata": {},
   "outputs": [
    {
     "name": "stdout",
     "output_type": "stream",
     "text": [
      "Size: 16000\n",
      "Mean: 6299.28175\n",
      "Median: 4600.0\n",
      "IQR: 8030.5\n",
      "Variance: 17486349.972366937\n"
     ]
    }
   ],
   "source": [
    "print_dist_metrics(distSH)"
   ]
  },
  {
   "cell_type": "code",
   "execution_count": 11,
   "metadata": {},
   "outputs": [
    {
     "name": "stdout",
     "output_type": "stream",
     "text": [
      "Size: 22000\n",
      "Mean: 4200.095909090909\n",
      "Median: 4600.0\n",
      "IQR: 8137.5\n",
      "Variance: 18935861.952983264\n"
     ]
    }
   ],
   "source": [
    "print_dist_metrics(distRG)"
   ]
  },
  {
   "cell_type": "code",
   "execution_count": 12,
   "metadata": {},
   "outputs": [
    {
     "data": {
      "image/png": "[encoded data removed]",
      "text/plain": [
       "<Figure size 432x288 with 1 Axes>"
      ]
     },
     "metadata": {
      "needs_background": "light"
     },
     "output_type": "display_data"
    }
   ],
   "source": [
    "hist_plot = plt.hist([distSH, distRG], color=['r','b'], alpha=0.7, bins = 25)"
   ]
  },
  {
   "cell_type": "markdown",
   "metadata": {},
   "source": [
    "#### 2.B\n",
    "Draw a histogram of a third scenario with the same properties. <br>\n",
    "In addition, in this scenario the rent in SH should have a higher variance than the rent in RG."
   ]
  },
  {
   "cell_type": "code",
   "execution_count": 13,
   "metadata": {},
   "outputs": [],
   "source": [
    "def increases_variance_without_changing_the_median_or_mean(dist):\n",
    "    q25 = np.quantile(dist, 0.25)\n",
    "    q75 = np.quantile(dist, 0.75)\n",
    "\n",
    "    dist = np.sort(dist).copy()\n",
    "    for i in range(len(dist)):\n",
    "        if dist[i] < q25 and dist[len(dist)-i-1] > q75:\n",
    "            val = dist[i]\n",
    "            dist[i] -=val\n",
    "            dist[len(dist)-i-1] += val\n",
    "    return dist"
   ]
  },
  {
   "cell_type": "code",
   "execution_count": 14,
   "metadata": {},
   "outputs": [],
   "source": [
    "distSHHigherVar = increases_variance_without_changing_the_median_or_mean(distSH)"
   ]
  },
  {
   "cell_type": "code",
   "execution_count": 15,
   "metadata": {},
   "outputs": [
    {
     "name": "stdout",
     "output_type": "stream",
     "text": [
      "Size: 16000\n",
      "Mean: 6299.28175\n",
      "Median: 4600.0\n",
      "IQR: 9026.25\n",
      "Variance: 23660931.393366937\n"
     ]
    }
   ],
   "source": [
    "print_dist_metrics(distSHHigherVar)"
   ]
  },
  {
   "cell_type": "code",
   "execution_count": 16,
   "metadata": {},
   "outputs": [
    {
     "name": "stdout",
     "output_type": "stream",
     "text": [
      "Size: 22000\n",
      "Mean: 4200.095909090909\n",
      "Median: 4600.0\n",
      "IQR: 8137.5\n",
      "Variance: 18935861.952983264\n"
     ]
    }
   ],
   "source": [
    "print_dist_metrics(distRG)"
   ]
  },
  {
   "cell_type": "code",
   "execution_count": 17,
   "metadata": {},
   "outputs": [
    {
     "data": {
      "image/png": "[encoded data removed]",
      "text/plain": [
       "<Figure size 432x288 with 1 Axes>"
      ]
     },
     "metadata": {
      "needs_background": "light"
     },
     "output_type": "display_data"
    }
   ],
   "source": [
    "hist_plot = plt.hist([distSHHigherVar, distRG], color=['r','b'], alpha=0.7, bins = 25)"
   ]
  },
  {
   "cell_type": "markdown",
   "metadata": {},
   "source": [
    "The survey also examined the per household income (PHI) in these two places.<br>\n",
    "\n",
    "It found that:<br>\n",
    "* The mean of PHI in SH is 12500 and in RG is 8500.\n",
    "* The median is 12000 in SH and 8000 in RG.\n",
    "* The covariance of the rent and the PHI was observed to be as in the formula below with $\\alpha=97\\%$ and $\\alpha=89\\%$ in SH and in RG respectively.<br><br>\n",
    "$$Cov(rent, PHI) = \\alpha * \\sqrt{Var(rent)} * \\sqrt{Var(PHI)}$$\n",
    "\n",
    "#### 2.C\n",
    "Produce rent and PHI data for the two cities, that is consistent with these findings. The covariances in your data can deviate by up to 1% from the numbers given $\\alpha$."
   ]
  },
  {
   "cell_type": "code",
   "execution_count": null,
   "metadata": {},
   "outputs": [],
   "source": []
  },
  {
   "cell_type": "markdown",
   "metadata": {},
   "source": [
    "#### 2.D\n",
    "Produce two heatmaps that describe these two bivariate joint distributions. Make sure you carefully consider the selected binning resolution."
   ]
  },
  {
   "cell_type": "code",
   "execution_count": null,
   "metadata": {},
   "outputs": [],
   "source": []
  },
  {
   "cell_type": "markdown",
   "metadata": {},
   "source": [
    "### Question 3 - Multinomial Distributions\n",
    "\n",
    "1. Let $X \\sim Multinomial(n,\\vec{p})$ be a multinomial random variable where $n=20$ and $\\vec{p} = (0.2,  0.1,  0.1,  0.1,  0.2,  0.3)$. Note that X is a vector of counts.\n",
    "\n",
    "\n",
    "2. Let $Y = X_2 + X_3 + X_4$ be a random variable.\n",
    "\n",
    "\n",
    "3. Create $k=100$ experiments where $X$ is sampled using Python. Calculate the empirical centralized third moment of $Y$ based on your $k$ experiments.\n",
    "\n",
    "\n",
    "4. Compare your result to the calculation in class for the centralized third moment of the **binomial** distribution and explain your observation."
   ]
  },
  {
   "cell_type": "code",
   "execution_count": 18,
   "metadata": {},
   "outputs": [],
   "source": [
    "np.random.seed(10)\n",
    "X = np.random.multinomial(20, [0.2, 0.1, 0.1, 0.1, 0.2, 0.3], size=100)"
   ]
  },
  {
   "cell_type": "code",
   "execution_count": 19,
   "metadata": {},
   "outputs": [
    {
     "data": {
      "text/plain": [
       "array([ 5,  5,  6,  8,  6,  6,  6,  5,  7,  6,  5,  8,  8,  4,  7, 11,  5,\n",
       "        6,  7,  7,  5,  4,  6,  6,  6,  5,  5,  4,  8,  6,  6,  5,  3,  6,\n",
       "        8,  6,  4,  4,  4,  7,  7,  8,  9,  1,  6,  5,  8,  6,  7,  7,  6,\n",
       "        8,  8,  9,  5,  7,  9,  6,  7,  4,  6,  5,  6,  3,  5,  8,  4,  5,\n",
       "        8,  5,  8,  9,  7,  6,  6,  5,  6,  3,  2,  5,  8,  6,  5,  7,  4,\n",
       "        5, 11,  3,  5,  5,  5,  9,  8,  8,  6,  6,  4,  5,  5,  5])"
      ]
     },
     "execution_count": 19,
     "metadata": {},
     "output_type": "execute_result"
    }
   ],
   "source": [
    "Y = X[:,1:4].sum(axis=1)\n",
    "Y"
   ]
  },
  {
   "cell_type": "code",
   "execution_count": 20,
   "metadata": {},
   "outputs": [
    {
     "data": {
      "text/plain": [
       "0.194662554045383"
      ]
     },
     "execution_count": 20,
     "metadata": {},
     "output_type": "execute_result"
    }
   ],
   "source": [
    "skew = stats.skew(Y)\n",
    "skew"
   ]
  },
  {
   "cell_type": "markdown",
   "metadata": {},
   "source": [
    "### Question 4 - Covariance and independence"
   ]
  },
  {
   "cell_type": "markdown",
   "metadata": {},
   "source": [
    "What is the variance of the sum X +Y + Z of three random variables in terms of the variances of X, Y and Z and the covariances between each pair of random variables? What happens if X,Y,Z are pairwise independent? If X,Y,Z are pairwise independent, are they necessarily collectively independent? Prove your answer."
   ]
  },
  {
   "cell_type": "markdown",
   "metadata": {},
   "source": [
    "$$Var(X+Y+Z)=Var(X+Y)+Var(Z)+2Cov(X+Y,Z)$$  \n",
    "$$=Var(X+Y)+Var(Z)+2Cov(X,Z)+2Cov(Y,Z)$$  \n",
    "$$=Var(X)+Var(Y)+2Cov(X,Y)+Var(Z)+2Cov(X,Z)+2Cov(Y,Z)$$  \n",
    "So,\n",
    "$$Var(X+Y+Z)=Var(X)+Var(Y)+Var(Z)+2Cov(X,Y)+2Cov(X,Z)+2Cov(Y,Z)$$  "
   ]
  },
  {
   "cell_type": "markdown",
   "metadata": {},
   "source": [
    "If X,Y,Z are pairwise independent, $$Cov(X,Y)=Cov(X,Z)=Cov(Y,Z)=0$$\n",
    "Then, $$Var(X+Y+Z)=Var(X)+Var(Y)+Var(Z)$$"
   ]
  },
  {
   "cell_type": "markdown",
   "metadata": {},
   "source": [
    "If X,Y,Z are pairwise independent, they are not necessarily collectively independent.  \n",
    "Counter-example:  \n",
    "We toss a fair dice twice.  \n",
    "X - we got odd number at first time  \n",
    "Y - we got odd number at second time  \n",
    "Z - the sum of two tosses is odd number  \n",
    "\n",
    "As we see, X and Y are independent. $$P(XY)=1/4,P(X)=P(Y)=1/2$$\n",
    "$$P(XY)=P(X)P(Y)$$  \n",
    "\n",
    "$$P(Z)=1/2$$\n",
    "P(XZ) means the first number is odd while the sum of two tosses is odd, which indicated the second time we must got even number. So,$$P(XZ)=1/4$$  \n",
    "So, X and Z are independent, because $$P(XZ)=P(X)P(Z)$$Same for $$P(YZ)=P(Y)P(Z)$$\n",
    "Y and Z are independent.\n",
    "\n",
    "But for P(XYZ), it is impossible for we got both odd number in two round and got odd sum.\n",
    "$$P(XYZ)=0\\neq{P(X)P(Y)P(Z)}=1/8$$"
   ]
  },
  {
   "cell_type": "markdown",
   "metadata": {},
   "source": [
    "### Question 5 - Convolutions"
   ]
  },
  {
   "cell_type": "markdown",
   "metadata": {},
   "source": [
    "#### 5.A\n",
    "Write a program, `Q = NFoldConv(P , n)`, that takes as input:\n",
    "* A distribution, P, of a random variable that takes finitely many integer values\n",
    "* An integer n\n",
    "\n",
    "and produces the distribution, Q, of the sum of n independent repeats of random variables, each of which has the distribution P."
   ]
  },
  {
   "cell_type": "code",
   "execution_count": null,
   "metadata": {},
   "outputs": [],
   "source": []
  },
  {
   "cell_type": "markdown",
   "metadata": {},
   "source": [
    "#### 5.B\n",
    "Compute the distribution of the sum of the results of rolling a fair octahedron 17 times.\n",
    "\n",
    "<img src=\"https://upload.wikimedia.org/wikipedia/commons/2/27/Octahedron.jpg\" width=\"200\">\n"
   ]
  },
  {
   "cell_type": "code",
   "execution_count": null,
   "metadata": {},
   "outputs": [],
   "source": []
  },
  {
   "cell_type": "markdown",
   "metadata": {},
   "source": [
    "### Question 6 - Counting Similar Strings"
   ]
  },
  {
   "cell_type": "markdown",
   "metadata": {},
   "source": [
    "Define a probaility space $(\\Omega, P)$:\n",
    "* $\\Omega = \\{0,1\\}^n$.\n",
    "* $P$ is induced by independantly tossing a $p$-coin ($p \\in [0,1]$) n times.\n",
    "\n",
    "For $\\omega \\in \\Omega$ let $W(\\omega) =$ number of 1s in $\\omega$.\n",
    "\n",
    "For $\\omega \\in \\Omega$ let the random variable $C = C_{p, n}$ be defined by:\n",
    "$$C(\\omega) = |\\{\\zeta : W(\\zeta)=W(\\omega)\\}|$$"
   ]
  },
  {
   "cell_type": "markdown",
   "metadata": {},
   "source": [
    "#### 6.A\n",
    "Plot the distribution of $W$ for $n = 100$ and $p = 0.3$. What is the name of this distribution?"
   ]
  },
  {
   "cell_type": "code",
   "execution_count": 21,
   "metadata": {},
   "outputs": [],
   "source": [
    "def W_distribution(n, p):\n",
    "    W = []\n",
    "    xw = ([0, 1])\n",
    "    P = np.random.choice(xw, (n,), p=[1-p, p])\n",
    "    W.append(np.sum(P))\n",
    "    return "
   ]
  },
  {
   "cell_type": "code",
   "execution_count": 22,
   "metadata": {},
   "outputs": [
    {
     "data": {
      "text/plain": [
       "array([0, 0, 0, 0, 0, 1, 0, 0, 0, 0, 1, 1, 0, 1, 1, 0, 0, 1, 0, 0, 0, 1,\n",
       "       1, 0, 1, 0, 0, 0, 0, 0, 0, 0, 0, 0, 0, 0, 0, 0, 0, 1, 0, 0, 0, 0,\n",
       "       0, 0, 1, 0, 0, 0, 1, 1, 0, 0, 1, 0, 1, 0, 1, 0, 0, 1, 0, 0, 0, 1,\n",
       "       0, 0, 0, 0, 0, 1, 0, 0, 0, 0, 1, 0, 1, 0, 0, 1, 0, 0, 0, 0, 0, 1,\n",
       "       0, 1, 0, 0, 0, 0, 0, 0, 0, 1, 0, 0])"
      ]
     },
     "execution_count": 22,
     "metadata": {},
     "output_type": "execute_result"
    }
   ],
   "source": [
    "xw = ([0, 1])\n",
    "P = np.random.choice(xw, (100,), p=[0.7, 0.3])\n",
    "P\n"
   ]
  },
  {
   "cell_type": "code",
   "execution_count": 23,
   "metadata": {},
   "outputs": [
    {
     "name": "stdout",
     "output_type": "stream",
     "text": [
      "None\n"
     ]
    }
   ],
   "source": [
    "W = W_distribution(100, 0.3)\n",
    "print(W)\n"
   ]
  },
  {
   "cell_type": "code",
   "execution_count": 24,
   "metadata": {
    "scrolled": true
   },
   "outputs": [
    {
     "ename": "NameError",
     "evalue": "name 'n_exp' is not defined",
     "output_type": "error",
     "traceback": [
      "\u001b[0;31m---------------------------------------------------------------------------\u001b[0m",
      "\u001b[0;31mNameError\u001b[0m                                 Traceback (most recent call last)",
      "Input \u001b[0;32mIn [24]\u001b[0m, in \u001b[0;36m<module>\u001b[0;34m\u001b[0m\n\u001b[0;32m----> 1\u001b[0m \u001b[38;5;28;01mfor\u001b[39;00m i \u001b[38;5;129;01min\u001b[39;00m \u001b[38;5;28mrange\u001b[39m(\u001b[43mn_exp\u001b[49m):\n\u001b[1;32m      2\u001b[0m     experiment \u001b[38;5;241m=\u001b[39m np\u001b[38;5;241m.\u001b[39mrandom\u001b[38;5;241m.\u001b[39mrandint(\u001b[38;5;241m0\u001b[39m,\u001b[38;5;241m2\u001b[39m,total_tosses)\n\u001b[1;32m      3\u001b[0m     head_count\u001b[38;5;241m.\u001b[39mappend(experiment[experiment\u001b[38;5;241m==\u001b[39m\u001b[38;5;241m1\u001b[39m]\u001b[38;5;241m.\u001b[39msum())\n",
      "\u001b[0;31mNameError\u001b[0m: name 'n_exp' is not defined"
     ]
    }
   ],
   "source": [
    "    for i in range(n_exp):\n",
    "        experiment = np.random.randint(0,2,total_tosses)\n",
    "        head_count.append(experiment[experiment==1].sum())\n",
    "    \n",
    "    return np.array(head_count)\n",
    "W = W_distribution(100, 0.3)\n",
    "W"
   ]
  },
  {
   "cell_type": "code",
   "execution_count": 25,
   "metadata": {},
   "outputs": [
    {
     "data": {
      "text/plain": [
       "(array([2., 1., 2., 3., 2.]),\n",
       " array([-1.85735817, -1.15693431, -0.45651045,  0.24391341,  0.94433727,\n",
       "         1.64476113]),\n",
       " <BarContainer object of 5 artists>)"
      ]
     },
     "execution_count": 25,
     "metadata": {},
     "output_type": "execute_result"
    },
    {
     "data": {
      "image/png": "[encoded data removed]",
      "text/plain": [
       "<Figure size 432x288 with 1 Axes>"
      ]
     },
     "metadata": {
      "needs_background": "light"
     },
     "output_type": "display_data"
    }
   ],
   "source": [
    "x = np.random.normal(size = 10)\n",
    "plt.hist(x, bins=5)"
   ]
  },
  {
   "cell_type": "code",
   "execution_count": 26,
   "metadata": {},
   "outputs": [
    {
     "ename": "AttributeError",
     "evalue": "'NoneType' object has no attribute 'pmf'",
     "output_type": "error",
     "traceback": [
      "\u001b[0;31m---------------------------------------------------------------------------\u001b[0m",
      "\u001b[0;31mAttributeError\u001b[0m                            Traceback (most recent call last)",
      "Input \u001b[0;32mIn [26]\u001b[0m, in \u001b[0;36m<module>\u001b[0;34m\u001b[0m\n\u001b[1;32m      2\u001b[0m x \u001b[38;5;241m=\u001b[39m np\u001b[38;5;241m.\u001b[39marange(\u001b[38;5;241m100\u001b[39m)\n\u001b[1;32m      3\u001b[0m plt\u001b[38;5;241m.\u001b[39msubplot()\n\u001b[0;32m----> 4\u001b[0m plt\u001b[38;5;241m.\u001b[39mplot(x, \u001b[43mW\u001b[49m\u001b[38;5;241;43m.\u001b[39;49m\u001b[43mpmf\u001b[49m(x, \u001b[38;5;241m100\u001b[39m, \u001b[38;5;241m0.3\u001b[39m))\n\u001b[1;32m      5\u001b[0m plt\u001b[38;5;241m.\u001b[39mshow()\n",
      "\u001b[0;31mAttributeError\u001b[0m: 'NoneType' object has no attribute 'pmf'"
     ]
    },
    {
     "data": {
      "image/png": "[encoded data removed]",
      "text/plain": [
       "<Figure size 432x288 with 1 Axes>"
      ]
     },
     "metadata": {
      "needs_background": "light"
     },
     "output_type": "display_data"
    }
   ],
   "source": [
    "W = W_distribution(100, 0.3)\n",
    "x = np.arange(100)\n",
    "plt.subplot()\n",
    "plt.plot(x, W.pmf(x, 100, 0.3))\n",
    "plt.show()\n"
   ]
  },
  {
   "cell_type": "code",
   "execution_count": 27,
   "metadata": {},
   "outputs": [
    {
     "data": {
      "image/png": "[encoded data removed]",
      "text/plain": [
       "<Figure size 360x360 with 1 Axes>"
      ]
     },
     "metadata": {
      "needs_background": "light"
     },
     "output_type": "display_data"
    }
   ],
   "source": [
    "sns.displot(data = W)\n",
    "plt.show()"
   ]
  },
  {
   "cell_type": "markdown",
   "metadata": {},
   "source": [
    "#### 6.B\n",
    "State a formula for comuting $E(C)$.\n",
    "\n",
    "Compute $E(C)$ for $p=0.1, 0.5, 0.8$ and $n=10, 20, 50, 100$"
   ]
  },
  {
   "cell_type": "code",
   "execution_count": null,
   "metadata": {},
   "outputs": [],
   "source": []
  },
  {
   "cell_type": "markdown",
   "metadata": {},
   "source": [
    "#### 6.C \n",
    "Plot the histograms of the values of $C$ for 1000 samples drawn from the space $(\\Omega, P)$ for each combination of $p$ and $n$ from the previous section. <br>\n",
    "Add text to each histogram with the empirical average of $C$ and the computed value of $E(C)$ (from the previous section). <br>\n",
    "In every histogram indicate the values of $n$ and $p$. "
   ]
  },
  {
   "cell_type": "code",
   "execution_count": null,
   "metadata": {},
   "outputs": [],
   "source": []
  },
  {
   "cell_type": "markdown",
   "metadata": {},
   "source": [
    "#### 6.D\n",
    "Use a scatter plot to compare the empirical and the computed values from the previous section"
   ]
  },
  {
   "cell_type": "code",
   "execution_count": null,
   "metadata": {},
   "outputs": [],
   "source": []
  }
 ],
 "metadata": {
  "kernelspec": {
   "display_name": "Python 3",
   "language": "python",
   "name": "python3"
  },
  "language_info": {
   "codemirror_mode": {
    "name": "ipython",
    "version": 3
   },
   "file_extension": ".py",
   "mimetype": "text/x-python",
   "name": "python",
   "nbconvert_exporter": "python",
   "pygments_lexer": "ipython3",
   "version": "3.8.13"
  }
 },
 "nbformat": 4,
 "nbformat_minor": 4
}
