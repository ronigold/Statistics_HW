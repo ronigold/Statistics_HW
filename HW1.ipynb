{
 "cells": [
  {
   "cell_type": "markdown",
   "metadata": {
    "tags": []
   },
   "source": [
    "### IDs:\n",
    "Insert yours IDs to the cell below"
   ]
  },
  {
   "cell_type": "markdown",
   "metadata": {},
   "source": [
    "ID #1: 312146343\n",
    "\n",
    "ID #2: 806761\n"
   ]
  },
  {
   "cell_type": "code",
   "execution_count": 11,
   "metadata": {},
   "outputs": [],
   "source": [
    "import numpy as np\n",
    "import pandas as pd\n",
    "import matplotlib.pyplot as plt\n",
    "from scipy import stats\n",
    "#import plotly.express as px\n",
    "import random\n",
    "import seaborn as sns\n",
    "import pandas as pd\n",
    "import math\n",
    "sns.set()"
   ]
  },
  {
   "cell_type": "markdown",
   "metadata": {},
   "source": [
    "## Read the following instructions carefully:\n",
    "\n",
    "1. This jupyter notebook contains all the step by step instructions needed for this exercise.\n",
    "1. You are free to add cells.\n",
    "1. Write your functions and your answers in this jupyter notebook only.\n",
    "1. Answers to theoretical questions should be written in **markdown cells (with $\\LaTeX$ support)**.\n",
    "1. Submit this jupyter notebook only using your ID as a filename. Not to use ZIP or RAR. For example, your Moodle submission file name should look like this (two id numbers): `123456789_987654321.ipynb`."
   ]
  },
  {
   "cell_type": "markdown",
   "metadata": {},
   "source": [
    "### Question 1 - Defective products"
   ]
  },
  {
   "cell_type": "markdown",
   "metadata": {},
   "source": [
    "In a manufacturing pipeline products are 3% defective. We are interested in examining a defective product to see what goes wrong on the belt. We need to ask the facility manager to send us a set of independent samples for examination."
   ]
  },
  {
   "cell_type": "markdown",
   "metadata": {},
   "source": [
    "#### 1.A\n",
    "\n",
    "How many independent samples should we ask for in order to have a 85% probability of having at least one defective product in the batch sent? You should write a function."
   ]
  },
  {
   "cell_type": "markdown",
   "metadata": {},
   "source": [
    "**Define X is the number of defectve product in the batch**  \n",
    "**Define n is the number of independent samples we should ask for**\n",
    "$$P(X\\geq1)=85\\%$$\n",
    "$$P(X\\geq1)=1-P(X=0)=85\\%$$\n",
    "$$P(X=0)=1-85\\%=(1-3\\%)^n$$"
   ]
  },
  {
   "cell_type": "code",
   "execution_count": 2,
   "metadata": {},
   "outputs": [],
   "source": [
    "def num_samples(p, target_prob):\n",
    "    n = 1\n",
    "    while ((1-p)**n) >= (1-target_prob):\n",
    "        n = n + 1\n",
    "    return n"
   ]
  },
  {
   "cell_type": "code",
   "execution_count": 3,
   "metadata": {},
   "outputs": [
    {
     "data": {
      "text/plain": [
       "63"
      ]
     },
     "execution_count": 3,
     "metadata": {},
     "output_type": "execute_result"
    }
   ],
   "source": [
    "num_samples(p = 0.03, target_prob =0.85)"
   ]
  },
  {
   "cell_type": "markdown",
   "metadata": {},
   "source": [
    "#### 1.B\n",
    "Answer this part again with the following changes: products are 4% defective and we want a 95% probability of at least one defective product in the batch."
   ]
  },
  {
   "cell_type": "code",
   "execution_count": 4,
   "metadata": {},
   "outputs": [
    {
     "data": {
      "text/plain": [
       "74"
      ]
     },
     "execution_count": 4,
     "metadata": {},
     "output_type": "execute_result"
    }
   ],
   "source": [
    "num_samples(p = 0.04, target_prob =0.95)"
   ]
  },
  {
   "cell_type": "markdown",
   "metadata": {},
   "source": [
    "#### 1.C \n",
    "\n",
    "Consider the following cases and calculate how many independent samples are required: \n",
    "\n",
    "1. Products are 10% defective and we want a 90% probability of at least 5 defective products in the batch.\n",
    "1. Products are 30% defective and we want a 90% probability of at least 15 defective products in the batch.\n",
    "\n",
    "Explain the difference between the two results. You should use mathematical reasoning based on the properties of distributions you saw in class and visualizations in your answer."
   ]
  },
  {
   "cell_type": "markdown",
   "metadata": {},
   "source": [
    "**Define X is the number of defectve product in the batch**  \n",
    "**Define n is the number of independent samples we should ask for**  \n",
    "**Define k is the required number of defectve product we want**  \n",
    "\n",
    "$$X\\sim B(n, p)$$  \n",
    "\n",
    "1. 10% defective and we want a 90% probability of at least 5 defective products\n",
    "$$X\\sim B(n, 0.1)$$  \n",
    "$$P(X\\geq5)=90\\%$$  \n",
    "$$P(X\\geq5)=1-P(X=0)-P(X=1)-P(X=2)-P(X=3)-P(X=4)=90\\%$$  \n",
    "$$P(X\\geq5)=1-CDF(4)=90\\%$$  "
   ]
  },
  {
   "cell_type": "code",
   "execution_count": 5,
   "metadata": {},
   "outputs": [],
   "source": [
    "def num_samples_2(p, target_prob, k):\n",
    "    n = 1\n",
    "    rv = stats.binom(n, p)\n",
    "    while 1 - rv.cdf(k-1) < target_prob:\n",
    "        n = n + 1\n",
    "        rv = stats.binom(n, p)\n",
    "    return n"
   ]
  },
  {
   "cell_type": "code",
   "execution_count": 6,
   "metadata": {},
   "outputs": [
    {
     "data": {
      "text/plain": [
       "78"
      ]
     },
     "execution_count": 6,
     "metadata": {},
     "output_type": "execute_result"
    }
   ],
   "source": [
    "num_samples_2(p = 0.1, target_prob = 0.90, k = 5)"
   ]
  },
  {
   "cell_type": "markdown",
   "metadata": {},
   "source": [
    "2. 30% defective and we want a 90% probability of at least 15 defective products\n",
    "$$X\\sim B(n, 0.3)$$  \n",
    "$$P(X\\geq15)=90\\%$$  \n",
    "$$P(X\\geq15)=1-CDF(14)=90\\%$$  "
   ]
  },
  {
   "cell_type": "code",
   "execution_count": 7,
   "metadata": {},
   "outputs": [
    {
     "data": {
      "text/plain": [
       "64"
      ]
     },
     "execution_count": 7,
     "metadata": {},
     "output_type": "execute_result"
    }
   ],
   "source": [
    "num_samples_2(p = 0.3, target_prob =0.90, k = 15)"
   ]
  },
  {
   "cell_type": "markdown",
   "metadata": {},
   "source": [
    "### Question 2 - Rent distributions in Randomistan"
   ]
  },
  {
   "cell_type": "markdown",
   "metadata": {},
   "source": [
    "The state of Randomistan conducted a survey to study the distribution of rent paid in two neighboring towns, Stochastic Heights and Random Grove, to be denoted SH and RG.<br> \n",
    "\n",
    "Here are some findings of the survey:\n",
    "* The population of SH and RG is 16,000 and 22,000 respectively. <br>\n",
    "* The mean rent in SH and RG is 6300RCU and 4200RCU respectively.\n",
    "* The median rent is 4600RCU in both towns.\n",
    "* The IQR of the rent is smaller in SH than in RG.\n",
    "\n",
    "All data generated in this question needs to be consistent with these findings."
   ]
  },
  {
   "cell_type": "markdown",
   "metadata": {},
   "source": [
    "#### 2.A\n",
    "Draw histograms that describe 2 different scenarii of possible distributions of rent in the two towns.\u000b",
    "Your histograms should:<br>\n",
    "* Use bins of 100RCU each.\n",
    "* Have at least 10 non zero bins."
   ]
  },
  {
   "cell_type": "code",
   "execution_count": 8,
   "metadata": {},
   "outputs": [],
   "source": [
    "def ganrate_2_dists(medianA, meanA, num_samplesA, max_rangeA, medianB, meanB, num_samplesB, max_rangeB):\n",
    "\n",
    "    def find_dist_mean(current_mean, desired_median):\n",
    "        return int(2*desired_median-current_mean)\n",
    "\n",
    "    def create_dist_with_mean(num_samples, mean, eps):\n",
    "        res = []\n",
    "        for idx in range(num_samples//2):\n",
    "            random_number = random.randint(mean,mean+eps)\n",
    "            res.append(random_number)\n",
    "            res.append(mean - (random_number - mean))\n",
    "        return list(res)\n",
    "\n",
    "    def create_random_dist(num_samples, start, end):\n",
    "        return [random.randint(start,end) for i in range(num_samples)]\n",
    "\n",
    "    def get_median_arr(num_samples, median):\n",
    "        if num_samples%2 == 0:\n",
    "            half_num_samples = num_samples//2 - 1\n",
    "            median_arr = [median, median, median]\n",
    "        else:\n",
    "            half_num_samples = num_samples//2\n",
    "            median_arr = [median]\n",
    "        return median_arr, half_num_samples\n",
    "    \n",
    "    def ganrate_dist(median, mean, num_samples,max_range):\n",
    "        median_arr, half_num_samples = get_median_arr(num_samples, median)\n",
    "        if median<=mean:\n",
    "            bottom_half = create_random_dist(half_num_samples, 0, median-1)\n",
    "            top_half = create_dist_with_mean(num_samples = half_num_samples, mean = find_dist_mean(np.mean(bottom_half), mean), eps = (mean-median))\n",
    "        else:\n",
    "            top_half = create_random_dist(half_num_samples, median+1, max_range)\n",
    "            bottom_half = create_dist_with_mean(num_samples = half_num_samples, mean = find_dist_mean(np.mean(top_half), mean), eps = (median-mean))\n",
    "        return np.array(bottom_half + median_arr + top_half)\n",
    "    \n",
    "    return ganrate_dist(medianA, meanA, num_samplesA, max_rangeA), ganrate_dist(medianB, meanB, num_samplesB, max_rangeB)\n",
    "    \n",
    "def df_2_dist(dist_a, dist_b, name_a, name_b):\n",
    "    df = pd.DataFrame()\n",
    "    df[name_a] = pd.Series({'Size': round(len(dist_a),2), 'Mean': round(np.mean(dist_a),2), 'Median': round(np.median(dist_a),2), 'IQR': round(stats.iqr(dist_a),2), 'Variance': round(np.var(dist_a),2)})\n",
    "    df[name_b] = pd.Series({'Size': round(len(dist_b),2), 'Mean': round(np.mean(dist_b),2), 'Median': round(np.median(dist_b),2), 'IQR': round(stats.iqr(dist_b),2), 'Variance': round(np.var(dist_b),2)})\n",
    "    return df"
   ]
  },
  {
   "cell_type": "code",
   "execution_count": 9,
   "metadata": {},
   "outputs": [
    {
     "name": "stdout",
     "output_type": "stream",
     "text": [
      "CPU times: user 39.9 ms, sys: 987 µs, total: 40.9 ms\n",
      "Wall time: 39.4 ms\n"
     ]
    }
   ],
   "source": [
    "%%time\n",
    "rent_sh, rent_rg = ganrate_2_dists(medianA = 4600, meanA = 6300, num_samplesA = 16000, max_rangeA = 8000, medianB = 4600, meanB = 4200, num_samplesB = 22000, max_rangeB = 12000)"
   ]
  },
  {
   "cell_type": "code",
   "execution_count": 10,
   "metadata": {},
   "outputs": [
    {
     "data": {
      "text/html": [
       "<div>\n",
       "<style scoped>\n",
       "    .dataframe tbody tr th:only-of-type {\n",
       "        vertical-align: middle;\n",
       "    }\n",
       "\n",
       "    .dataframe tbody tr th {\n",
       "        vertical-align: top;\n",
       "    }\n",
       "\n",
       "    .dataframe thead th {\n",
       "        text-align: right;\n",
       "    }\n",
       "</style>\n",
       "<table border=\"1\" class=\"dataframe\">\n",
       "  <thead>\n",
       "    <tr style=\"text-align: right;\">\n",
       "      <th></th>\n",
       "      <th>Stochastic Heights (Rent)</th>\n",
       "      <th>Random Grove (Rent)</th>\n",
       "    </tr>\n",
       "  </thead>\n",
       "  <tbody>\n",
       "    <tr>\n",
       "      <th>Size</th>\n",
       "      <td>16000.00</td>\n",
       "      <td>22000.00</td>\n",
       "    </tr>\n",
       "    <tr>\n",
       "      <th>Mean</th>\n",
       "      <td>6299.09</td>\n",
       "      <td>4200.18</td>\n",
       "    </tr>\n",
       "    <tr>\n",
       "      <th>Median</th>\n",
       "      <td>4600.00</td>\n",
       "      <td>4600.00</td>\n",
       "    </tr>\n",
       "    <tr>\n",
       "      <th>IQR</th>\n",
       "      <td>7938.25</td>\n",
       "      <td>8260.25</td>\n",
       "    </tr>\n",
       "    <tr>\n",
       "      <th>Variance</th>\n",
       "      <td>17184305.97</td>\n",
       "      <td>19254834.26</td>\n",
       "    </tr>\n",
       "  </tbody>\n",
       "</table>\n",
       "</div>"
      ],
      "text/plain": [
       "          Stochastic Heights (Rent)  Random Grove (Rent)\n",
       "Size                       16000.00             22000.00\n",
       "Mean                        6299.09              4200.18\n",
       "Median                      4600.00              4600.00\n",
       "IQR                         7938.25              8260.25\n",
       "Variance                17184305.97          19254834.26"
      ]
     },
     "execution_count": 10,
     "metadata": {},
     "output_type": "execute_result"
    }
   ],
   "source": [
    "df_2_dist(rent_sh, rent_rg, 'Stochastic Heights (Rent)', 'Random Grove (Rent)')"
   ]
  },
  {
   "cell_type": "code",
   "execution_count": 11,
   "metadata": {},
   "outputs": [
    {
     "data": {
      "image/png": "[encoded data removed]",
      "text/plain": [
       "<Figure size 432x288 with 1 Axes>"
      ]
     },
     "metadata": {
      "needs_background": "light"
     },
     "output_type": "display_data"
    }
   ],
   "source": [
    "hist_plot = plt.hist([rent_sh, rent_rg], color=['r','b'], alpha=0.7, bins = 20)"
   ]
  },
  {
   "cell_type": "markdown",
   "metadata": {},
   "source": [
    "#### 2.B\n",
    "Draw a histogram of a third scenario with the same properties. <br>\n",
    "In addition, in this scenario the rent in SH should have a higher variance than the rent in RG."
   ]
  },
  {
   "cell_type": "code",
   "execution_count": 12,
   "metadata": {},
   "outputs": [],
   "source": [
    "def increases_variance_without_changing_the_median_or_mean(dist):\n",
    "    q25 = np.quantile(dist, 0.25)\n",
    "    q75 = np.quantile(dist, 0.75)\n",
    "\n",
    "    dist = np.sort(dist).copy()\n",
    "    for i in range(len(dist)):\n",
    "        if dist[i] < q25 and dist[len(dist)-i-1] > q75:\n",
    "            val = dist[i]\n",
    "            dist[i] -=val\n",
    "            dist[len(dist)-i-1] += val\n",
    "    return dist"
   ]
  },
  {
   "cell_type": "code",
   "execution_count": 13,
   "metadata": {},
   "outputs": [],
   "source": [
    "rent_sh_higher_var = increases_variance_without_changing_the_median_or_mean(rent_sh)"
   ]
  },
  {
   "cell_type": "code",
   "execution_count": 14,
   "metadata": {},
   "outputs": [
    {
     "data": {
      "text/html": [
       "<div>\n",
       "<style scoped>\n",
       "    .dataframe tbody tr th:only-of-type {\n",
       "        vertical-align: middle;\n",
       "    }\n",
       "\n",
       "    .dataframe tbody tr th {\n",
       "        vertical-align: top;\n",
       "    }\n",
       "\n",
       "    .dataframe thead th {\n",
       "        text-align: right;\n",
       "    }\n",
       "</style>\n",
       "<table border=\"1\" class=\"dataframe\">\n",
       "  <thead>\n",
       "    <tr style=\"text-align: right;\">\n",
       "      <th></th>\n",
       "      <th>Stochastic Heights High Var</th>\n",
       "      <th>Random Grove</th>\n",
       "    </tr>\n",
       "  </thead>\n",
       "  <tbody>\n",
       "    <tr>\n",
       "      <th>Size</th>\n",
       "      <td>16000.00</td>\n",
       "      <td>16000.00</td>\n",
       "    </tr>\n",
       "    <tr>\n",
       "      <th>Mean</th>\n",
       "      <td>6299.09</td>\n",
       "      <td>6299.09</td>\n",
       "    </tr>\n",
       "    <tr>\n",
       "      <th>Median</th>\n",
       "      <td>4600.00</td>\n",
       "      <td>4600.00</td>\n",
       "    </tr>\n",
       "    <tr>\n",
       "      <th>IQR</th>\n",
       "      <td>7938.25</td>\n",
       "      <td>7938.25</td>\n",
       "    </tr>\n",
       "    <tr>\n",
       "      <th>Variance</th>\n",
       "      <td>23536611.88</td>\n",
       "      <td>17184305.97</td>\n",
       "    </tr>\n",
       "  </tbody>\n",
       "</table>\n",
       "</div>"
      ],
      "text/plain": [
       "          Stochastic Heights High Var  Random Grove\n",
       "Size                         16000.00      16000.00\n",
       "Mean                          6299.09       6299.09\n",
       "Median                        4600.00       4600.00\n",
       "IQR                           7938.25       7938.25\n",
       "Variance                  23536611.88   17184305.97"
      ]
     },
     "execution_count": 14,
     "metadata": {},
     "output_type": "execute_result"
    }
   ],
   "source": [
    "df_2_dist(rent_sh_higher_var, rent_sh, 'Stochastic Heights High Var', 'Random Grove')"
   ]
  },
  {
   "cell_type": "code",
   "execution_count": 15,
   "metadata": {},
   "outputs": [
    {
     "data": {
      "image/png": "[encoded data removed]",
      "text/plain": [
       "<Figure size 432x288 with 1 Axes>"
      ]
     },
     "metadata": {
      "needs_background": "light"
     },
     "output_type": "display_data"
    }
   ],
   "source": [
    "hist_plot = plt.hist([rent_sh_higher_var, rent_sh], color=['r','b'], alpha=0.7, bins = 25)"
   ]
  },
  {
   "cell_type": "markdown",
   "metadata": {},
   "source": [
    "The survey also examined the per household income (PHI) in these two places.<br>\n",
    "\n",
    "It found that:<br>\n",
    "* The mean of PHI in SH is 12500 and in RG is 8500.\n",
    "* The median is 12000 in SH and 8000 in RG.\n",
    "* The covariance of the rent and the PHI was observed to be as in the formula below with $\\alpha=97\\%$ and $\\alpha=89\\%$ in SH and in RG respectively.<br><br>\n",
    "$$Cov(rent, PHI) = \\alpha * \\sqrt{Var(rent)} * \\sqrt{Var(PHI)}$$\n",
    "\n",
    "#### 2.C\n",
    "Produce rent and PHI data for the two cities, that is consistent with these findings. The covariances in your data can deviate by up to 1% from the numbers given $\\alpha$."
   ]
  },
  {
   "cell_type": "code",
   "execution_count": 16,
   "metadata": {},
   "outputs": [
    {
     "name": "stdout",
     "output_type": "stream",
     "text": [
      "CPU times: user 33.9 ms, sys: 5.59 ms, total: 39.5 ms\n",
      "Wall time: 37.4 ms\n"
     ]
    }
   ],
   "source": [
    "%%time\n",
    "sh_phi, rg_phi = ganrate_2_dists(medianA = 12000, meanA = 12500, num_samplesA = 16000, max_rangeA = 8000, medianB = 8000, meanB = 8500, num_samplesB = 22000, max_rangeB = 12000)"
   ]
  },
  {
   "cell_type": "code",
   "execution_count": 17,
   "metadata": {},
   "outputs": [
    {
     "data": {
      "text/html": [
       "<div>\n",
       "<style scoped>\n",
       "    .dataframe tbody tr th:only-of-type {\n",
       "        vertical-align: middle;\n",
       "    }\n",
       "\n",
       "    .dataframe tbody tr th {\n",
       "        vertical-align: top;\n",
       "    }\n",
       "\n",
       "    .dataframe thead th {\n",
       "        text-align: right;\n",
       "    }\n",
       "</style>\n",
       "<table border=\"1\" class=\"dataframe\">\n",
       "  <thead>\n",
       "    <tr style=\"text-align: right;\">\n",
       "      <th></th>\n",
       "      <th>Stochastic Heights (PHI)</th>\n",
       "      <th>Random Grove (PHI)</th>\n",
       "    </tr>\n",
       "  </thead>\n",
       "  <tbody>\n",
       "    <tr>\n",
       "      <th>Size</th>\n",
       "      <td>16000.00</td>\n",
       "      <td>22000.00</td>\n",
       "    </tr>\n",
       "    <tr>\n",
       "      <th>Mean</th>\n",
       "      <td>12499.01</td>\n",
       "      <td>8499.57</td>\n",
       "    </tr>\n",
       "    <tr>\n",
       "      <th>Median</th>\n",
       "      <td>12000.00</td>\n",
       "      <td>8000.00</td>\n",
       "    </tr>\n",
       "    <tr>\n",
       "      <th>IQR</th>\n",
       "      <td>12875.25</td>\n",
       "      <td>9165.00</td>\n",
       "    </tr>\n",
       "    <tr>\n",
       "      <th>Variance</th>\n",
       "      <td>47478327.36</td>\n",
       "      <td>23365871.73</td>\n",
       "    </tr>\n",
       "  </tbody>\n",
       "</table>\n",
       "</div>"
      ],
      "text/plain": [
       "          Stochastic Heights (PHI)  Random Grove (PHI)\n",
       "Size                      16000.00            22000.00\n",
       "Mean                      12499.01             8499.57\n",
       "Median                    12000.00             8000.00\n",
       "IQR                       12875.25             9165.00\n",
       "Variance               47478327.36         23365871.73"
      ]
     },
     "execution_count": 17,
     "metadata": {},
     "output_type": "execute_result"
    }
   ],
   "source": [
    "df_2_dist(sh_phi, rg_phi, 'Stochastic Heights (PHI)', 'Random Grove (PHI)')"
   ]
  },
  {
   "cell_type": "code",
   "execution_count": 18,
   "metadata": {},
   "outputs": [
    {
     "data": {
      "image/png": "[encoded data removed]",
      "text/plain": [
       "<Figure size 432x288 with 1 Axes>"
      ]
     },
     "metadata": {
      "needs_background": "light"
     },
     "output_type": "display_data"
    }
   ],
   "source": [
    "hist_plot = plt.hist([sh_phi, rg_phi], color=['r','b'], alpha=0.7, bins = 25)"
   ]
  },
  {
   "cell_type": "markdown",
   "metadata": {},
   "source": [
    "Calculating the Expected Cov(rent,PHI) base on the given a:"
   ]
  },
  {
   "cell_type": "code",
   "execution_count": 19,
   "metadata": {},
   "outputs": [
    {
     "data": {
      "text/plain": [
       "(18877778.80358024, 27706740.55337554)"
      ]
     },
     "execution_count": 19,
     "metadata": {},
     "output_type": "execute_result"
    }
   ],
   "source": [
    "exp_cov_sh = 0.97 * np.var(sh_phi)**0.5 * np.var(rent_sh)**0.5\n",
    "exp_cov_rg = 0.89 * np.var(rg_phi)**0.5 * np.var(rent_rg)**0.5\n",
    "exp_cov_rg, exp_cov_sh"
   ]
  },
  {
   "cell_type": "markdown",
   "metadata": {},
   "source": [
    "The \"real\" cov based on the distributions"
   ]
  },
  {
   "cell_type": "code",
   "execution_count": 20,
   "metadata": {},
   "outputs": [
    {
     "data": {
      "text/plain": [
       "(0.990916848686992, 0.9297625542460478)"
      ]
     },
     "execution_count": 20,
     "metadata": {},
     "output_type": "execute_result"
    }
   ],
   "source": [
    "cov_sh = np.cov(rent_sh,sh_phi)[0,1]\n",
    "cov_rg = np.cov(rent_rg,rg_phi)[0,1]\n",
    "#the ratio shouldent be greater / smaller then 1%\n",
    "cov_rg/exp_cov_rg , cov_sh/exp_cov_sh"
   ]
  },
  {
   "cell_type": "markdown",
   "metadata": {},
   "source": [
    "#### 2.D\n",
    "Produce two heatmaps that describe these two bivariate joint distributions. Make sure you carefully consider the selected binning resolution."
   ]
  },
  {
   "cell_type": "code",
   "execution_count": 21,
   "metadata": {},
   "outputs": [
    {
     "data": {
      "image/png": "[encoded data removed]",
      "text/plain": [
       "<Figure size 432x288 with 1 Axes>"
      ]
     },
     "metadata": {
      "needs_background": "light"
     },
     "output_type": "display_data"
    }
   ],
   "source": [
    "plt.hist2d(x=rent_sh,y=sh_phi,bins=4)\n",
    "plt.xlabel('RG Rent')\n",
    "plt.ylabel('RG PHI')\n",
    "plt.show()"
   ]
  },
  {
   "cell_type": "code",
   "execution_count": 22,
   "metadata": {},
   "outputs": [
    {
     "data": {
      "image/png": "[encoded data removed]",
      "text/plain": [
       "<Figure size 432x288 with 1 Axes>"
      ]
     },
     "metadata": {
      "needs_background": "light"
     },
     "output_type": "display_data"
    }
   ],
   "source": [
    "plt.hist2d(x=rent_rg,y=rg_phi,bins=4)\n",
    "plt.xlabel('SH Rent')\n",
    "plt.ylabel('SH PHI')\n",
    "plt.show()"
   ]
  },
  {
   "cell_type": "markdown",
   "metadata": {},
   "source": [
    "### Question 3 - Multinomial Distributions\n",
    "\n",
    "1. Let $X \\sim Multinomial(n,\\vec{p})$ be a multinomial random variable where $n=20$ and $\\vec{p} = (0.2,  0.1,  0.1,  0.1,  0.2,  0.3)$. Note that X is a vector of counts.\n",
    "\n",
    "\n",
    "2. Let $Y = X_2 + X_3 + X_4$ be a random variable.\n",
    "\n",
    "\n",
    "3. Create $k=100$ experiments where $X$ is sampled using Python. Calculate the empirical centralized third moment of $Y$ based on your $k$ experiments.\n",
    "\n",
    "\n",
    "4. Compare your result to the calculation in class for the centralized third moment of the **binomial** distribution and explain your observation."
   ]
  },
  {
   "cell_type": "code",
   "execution_count": 2,
   "metadata": {},
   "outputs": [],
   "source": [
    "np.random.seed(10)\n",
    "X = np.random.multinomial(20, [0.2, 0.1, 0.1, 0.1, 0.2, 0.3], size=100)"
   ]
  },
  {
   "cell_type": "code",
   "execution_count": 3,
   "metadata": {},
   "outputs": [],
   "source": [
    "Y = X[:,1:4].sum(axis=1)"
   ]
  },
  {
   "cell_type": "markdown",
   "metadata": {},
   "source": [
    "$$\\gamma3=E[(X-E(X)^3)]$$"
   ]
  },
  {
   "cell_type": "code",
   "execution_count": 4,
   "metadata": {},
   "outputs": [
    {
     "data": {
      "text/plain": [
       "1.0573020000000024"
      ]
     },
     "execution_count": 4,
     "metadata": {},
     "output_type": "execute_result"
    }
   ],
   "source": [
    "Y3 = ((Y-Y.mean())**3).mean()\n",
    "#stats.skew(Y)*Y.std()**3 #--another way to calculate\n",
    "Y3"
   ]
  },
  {
   "cell_type": "markdown",
   "metadata": {},
   "source": [
    "4. In class, we have $\\gamma3=np(1-p)(1-2p)=20\\times(1-0.3)(1-2\\times0.3)=1.68$  \n",
    "If we increase k value, we will have more accurate central third moment of Y"
   ]
  },
  {
   "cell_type": "code",
   "execution_count": 5,
   "metadata": {},
   "outputs": [
    {
     "data": {
      "text/plain": [
       "1.6828045638832854"
      ]
     },
     "execution_count": 5,
     "metadata": {},
     "output_type": "execute_result"
    }
   ],
   "source": [
    "np.random.seed(100)\n",
    "X = np.random.multinomial(20, [0.2, 0.1, 0.1, 0.1, 0.2, 0.3], size=1000000)\n",
    "Y = X[:,1:4].sum(axis=1)\n",
    "Y3 = ((Y-Y.mean())**3).mean()\n",
    "Y3"
   ]
  },
  {
   "cell_type": "markdown",
   "metadata": {},
   "source": [
    "We can see the central third moment of binomial distribution $T\\sim B(20, 0.3)$ is equal to the central third moment of $Y$.  \n",
    "$Y$ is the sum of parts of binomial distribution from multinomial RV $X$. $Xi$ and $Xj$ are independent, so we can add their central third moment.  \n",
    "From Wiki: Central moment has additivity property for random variables X and Y that are independent:  \n",
    "$${\\displaystyle \\mu _{n}(X+Y)=\\mu _{n}(X)+\\mu _{n}(Y)\\,}, \\quad provided \\quad n ∈ {1, 2, 3}.$$\n",
    "----"
   ]
  },
  {
   "cell_type": "markdown",
   "metadata": {},
   "source": [
    "### Question 4 - Covariance and independence"
   ]
  },
  {
   "cell_type": "markdown",
   "metadata": {},
   "source": [
    "What is the variance of the sum X +Y + Z of three random variables in terms of the variances of X, Y and Z and the covariances between each pair of random variables? What happens if X,Y,Z are pairwise independent? If X,Y,Z are pairwise independent, are they necessarily collectively independent? Prove your answer."
   ]
  },
  {
   "cell_type": "markdown",
   "metadata": {},
   "source": [
    "$$Var(X+Y+Z)=Var(X+Y)+Var(Z)+2Cov(X+Y,Z)$$  \n",
    "$$=Var(X+Y)+Var(Z)+2Cov(X,Z)+2Cov(Y,Z)$$  \n",
    "$$=Var(X)+Var(Y)+2Cov(X,Y)+Var(Z)+2Cov(X,Z)+2Cov(Y,Z)$$  \n",
    "So,\n",
    "$$Var(X+Y+Z)=Var(X)+Var(Y)+Var(Z)+2Cov(X,Y)+2Cov(X,Z)+2Cov(Y,Z)$$  "
   ]
  },
  {
   "cell_type": "markdown",
   "metadata": {},
   "source": [
    "If X,Y,Z are pairwise independent, $$Cov(X,Y)=Cov(X,Z)=Cov(Y,Z)=0$$\n",
    "Then, $$Var(X+Y+Z)=Var(X)+Var(Y)+Var(Z)$$"
   ]
  },
  {
   "cell_type": "markdown",
   "metadata": {},
   "source": [
    "If X,Y,Z are pairwise independent, they are not necessarily collectively independent.  \n",
    "Counter-example:  \n",
    "We toss a fair dice twice.  \n",
    "X - we got odd number at first time  \n",
    "Y - we got odd number at second time  \n",
    "Z - the sum of two tosses is odd number  \n",
    "\n",
    "As we see, X and Y are independent. $$P(XY)=1/4,P(X)=P(Y)=1/2$$\n",
    "$$P(XY)=P(X)P(Y)$$  \n",
    "\n",
    "$$P(Z)=1/2$$\n",
    "P(XZ) means the first number is odd while the sum of two tosses is odd, which indicated the second time we must got even number. So,$$P(XZ)=1/4$$  \n",
    "So, X and Z are independent, because $$P(XZ)=P(X)P(Z)$$Same for $$P(YZ)=P(Y)P(Z)$$\n",
    "Y and Z are independent.\n",
    "\n",
    "But for P(XYZ), it is impossible for we got both odd number in two round and got odd sum.\n",
    "$$P(XYZ)=0\\neq{P(X)P(Y)P(Z)}=1/8$$"
   ]
  },
  {
   "cell_type": "markdown",
   "metadata": {},
   "source": [
    "### Question 5 - Convolutions"
   ]
  },
  {
   "cell_type": "markdown",
   "metadata": {},
   "source": [
    "#### 5.A\n",
    "Write a program, `Q = NFoldConv(P , n)`, that takes as input:\n",
    "* A distribution, P, of a random variable that takes finitely many integer values\n",
    "* An integer n\n",
    "\n",
    "and produces the distribution, Q, of the sum of n independent repeats of random variables, each of which has the distribution P."
   ]
  },
  {
   "cell_type": "code",
   "execution_count": null,
   "metadata": {},
   "outputs": [],
   "source": []
  },
  {
   "cell_type": "markdown",
   "metadata": {},
   "source": [
    "#### 5.B\n",
    "Compute the distribution of the sum of the results of rolling a fair octahedron 17 times.\n",
    "\n",
    "<img src=\"https://upload.wikimedia.org/wikipedia/commons/2/27/Octahedron.jpg\" width=\"200\">\n"
   ]
  },
  {
   "cell_type": "code",
   "execution_count": null,
   "metadata": {},
   "outputs": [],
   "source": []
  },
  {
   "cell_type": "markdown",
   "metadata": {},
   "source": [
    "### Question 6 - Counting Similar Strings"
   ]
  },
  {
   "cell_type": "markdown",
   "metadata": {},
   "source": [
    "Define a probaility space $(\\Omega, P)$:\n",
    "* $\\Omega = \\{0,1\\}^n$.\n",
    "* $P$ is induced by independantly tossing a $p$-coin ($p \\in [0,1]$) n times.\n",
    "\n",
    "For $\\omega \\in \\Omega$ let $W(\\omega) =$ number of 1s in $\\omega$.\n",
    "\n",
    "For $\\omega \\in \\Omega$ let the random variable $C = C_{p, n}$ be defined by:\n",
    "$$C(\\omega) = |\\{\\zeta : W(\\zeta)=W(\\omega)\\}|$$"
   ]
  },
  {
   "cell_type": "markdown",
   "metadata": {},
   "source": [
    "#### 6.A\n",
    "Plot the distribution of $W$ for $n = 100$ and $p = 0.3$. What is the name of this distribution?"
   ]
  },
  {
   "cell_type": "code",
   "execution_count": 7,
   "metadata": {},
   "outputs": [],
   "source": [
    "def W(n, p):\n",
    "    xw = ([0, 1])\n",
    "    P = np.random.choice(xw, (n,), p=[1-p, p])\n",
    "    return np.sum(P)\n",
    "\n",
    "def W_distribution(n, p, n_exp):\n",
    "    W = []\n",
    "    for i in range(n_exp):\n",
    "        xw = ([0, 1])\n",
    "        P = np.random.choice(xw, (n,), p=[1-p, p])\n",
    "        W.append(np.sum(P))\n",
    "    return W"
   ]
  },
  {
   "cell_type": "markdown",
   "metadata": {},
   "source": [
    "Distribution W is binomial distribution. $W\\sim B(100, 0.3)$"
   ]
  },
  {
   "cell_type": "code",
   "execution_count": 8,
   "metadata": {},
   "outputs": [
    {
     "data": {
      "text/plain": [
       "<AxesSubplot:ylabel='Count'>"
      ]
     },
     "execution_count": 8,
     "metadata": {},
     "output_type": "execute_result"
    },
    {
     "data": {
      "image/png": "[encoded data removed]",
      "text/plain": [
       "<Figure size 432x288 with 1 Axes>"
      ]
     },
     "metadata": {},
     "output_type": "display_data"
    }
   ],
   "source": [
    "W = W_distribution(1000, 0.3, 10000)\n",
    "B = np.random.binomial(n=1000, p=0.3, size=10000) #binomial distribution\n",
    "sns.histplot(W, kde=True,bins=36, alpha = 0.4, color = \"r\")\n",
    "sns.histplot(B, kde=True,bins=36, alpha = 0.4)"
   ]
  },
  {
   "cell_type": "markdown",
   "metadata": {},
   "source": [
    "#### 6.B\n",
    "State a formula for comuting $E(C)$.\n",
    "\n",
    "Compute $E(C)$ for $p=0.1, 0.5, 0.8$ and $n=10, 20, 50, 100$"
   ]
  },
  {
   "cell_type": "markdown",
   "metadata": {},
   "source": [
    "$$E(C)=\\sum_{t}tP(C=t)$$  \n",
    "$$t=\\begin{pmatrix}\n",
    "n\\\\\n",
    "k\n",
    "\\end{pmatrix}$$  \n",
    "$$P(W=k)=P(C=\\begin{pmatrix}\n",
    "n\\\\\n",
    "k\n",
    "\\end{pmatrix})=\\begin{pmatrix}\n",
    "n\\\\\n",
    "k\n",
    "\\end{pmatrix}(p^k(1-p)^{n-k})$$  \n",
    "$$E(C)=\\sum_{i=0}^{n}\\begin{pmatrix}\n",
    "n\\\\\n",
    "i\n",
    "\\end{pmatrix}(p^i(1-p)^{n-i})$$  "
   ]
  },
  {
   "cell_type": "code",
   "execution_count": 9,
   "metadata": {},
   "outputs": [],
   "source": [
    "def exp_C(n, p):\n",
    "    x = 0\n",
    "    for i in range(n+1):\n",
    "        x = x + ((math.comb(n, i))**2)*((p**i)*(1-p)**(n-i))\n",
    "    return x"
   ]
  },
  {
   "cell_type": "code",
   "execution_count": 12,
   "metadata": {},
   "outputs": [
    {
     "name": "stdout",
     "output_type": "stream",
     "text": [
      "p=0.1, n=10, \t E(C)=22.576;\n",
      "p=0.1, n=20, \t E(C)=1757.75;\n",
      "p=0.1, n=50, \t E(C)=1.47931e+09;\n",
      "p=0.1, n=100, \t E(C)=1.68157e+19;\n",
      "p=0.5, n=10, \t E(C)=180.426;\n",
      "p=0.5, n=20, \t E(C)=131461;\n",
      "p=0.5, n=50, \t E(C)=8.96095e+13;\n",
      "p=0.5, n=100, \t E(C)=7.14302e+28;\n",
      "p=0.8, n=10, \t E(C)=66.95;\n",
      "p=0.8, n=20, \t E(C)=16979.4;\n",
      "p=0.8, n=50, \t E(C)=4.90152e+11;\n",
      "p=0.8, n=100, \t E(C)=2.01301e+24;\n"
     ]
    }
   ],
   "source": [
    "D1 = []\n",
    "D3 = []\n",
    "for p in [0.1, 0.5, 0.8]:\n",
    "    for n in [10, 20, 50, 100]:\n",
    "        D1.append(exp_C(n, p))\n",
    "        D3.append(\"p=\" + str(p) + \",n=\" + str(n))\n",
    "        print(\"p=%g,\"%p, \"n=%g,\"%n, \"\\t\", \"E(C)=%g;\"%exp_C(n, p))\n",
    "\n",
    "#For Q6.D\n",
    "D = pd.DataFrame(D1, columns = [\"C\"])\n",
    "D[\"label\"] = D3\n",
    "D[\"type\"] = \"E(C)\""
   ]
  },
  {
   "cell_type": "markdown",
   "metadata": {},
   "source": [
    "#### 6.C \n",
    "Plot the histograms of the values of $C$ for 1000 samples drawn from the space $(\\Omega, P)$ for each combination of $p$ and $n$ from the previous section. <br>\n",
    "Add text to each histogram with the empirical average of $C$ and the computed value of $E(C)$ (from the previous section). <br>\n",
    "In every histogram indicate the values of $n$ and $p$. "
   ]
  },
  {
   "cell_type": "code",
   "execution_count": 13,
   "metadata": {},
   "outputs": [],
   "source": [
    "def C_distribution(n, p, n_exp):\n",
    "    C = []\n",
    "    for i in range(n_exp): #choose W first\n",
    "        xw = ([0, 1])\n",
    "        P = np.random.choice(xw, (n,), p=[1-p, p])\n",
    "        W = math.comb(n, np.sum(P))\n",
    "        C.append(W)\n",
    "        X = np.array(C).astype(float)\n",
    "    return X"
   ]
  },
  {
   "cell_type": "code",
   "execution_count": 15,
   "metadata": {},
   "outputs": [
    {
     "data": {
      "image/png": "[encoded data removed]",
      "text/plain": [
       "<Figure size 1584x864 with 12 Axes>"
      ]
     },
     "metadata": {},
     "output_type": "display_data"
    }
   ],
   "source": [
    "fig, ax = plt.subplots(3, 4, figsize=(22, 12))\n",
    "fig.subplots_adjust(hspace = 0.8, wspace = 0.3)\n",
    "\n",
    "D2 = []\n",
    "x = 0\n",
    "for p in [0.1, 0.5, 0.8]:\n",
    "    y = 0\n",
    "    for n in [10, 20, 50, 100]:\n",
    "        C = C_distribution(n, p, 1000)\n",
    "        if n >= 20:\n",
    "            sub = sns.histplot(data = C, ax=ax[x,y], log_scale = True, bins=25)\n",
    "        else:\n",
    "            sub = sns.histplot(data = C, ax=ax[x,y], log_scale = False, bins=25)\n",
    "        str_title = \"p=\" + str(p) + \",n=\" + str(n) + \"\\n\" + \"empirical average C=\" + str(C.mean()) + \"\\n\" + \"E(C)=\" + str(exp_C(n, p))\n",
    "        sub.set_title(str_title)\n",
    "        sub.set_xlabel(\"C value\")\n",
    "        D2.append(C.mean())      \n",
    "        y = y + 1\n",
    "    x = x + 1"
   ]
  },
  {
   "cell_type": "markdown",
   "metadata": {},
   "source": [
    "#### 6.D\n",
    "Use a scatter plot to compare the empirical and the computed values from the previous section"
   ]
  },
  {
   "cell_type": "code",
   "execution_count": 16,
   "metadata": {},
   "outputs": [],
   "source": [
    "DD = pd.DataFrame(D2, columns = [\"C\"])\n",
    "DD[\"label\"] = D3\n",
    "DD[\"type\"] = \"empirical average\"\n",
    "result = pd.concat([D, DD])\n",
    "result[\"C\"] = result[\"C\"].apply(np.log)"
   ]
  },
  {
   "cell_type": "code",
   "execution_count": 17,
   "metadata": {},
   "outputs": [
    {
     "data": {
      "text/plain": [
       "Text(0.5, 0, 'C value in log10')"
      ]
     },
     "execution_count": 17,
     "metadata": {},
     "output_type": "execute_result"
    },
    {
     "data": {
      "image/png": "[encoded data removed]",
      "text/plain": [
       "<Figure size 1152x576 with 1 Axes>"
      ]
     },
     "metadata": {},
     "output_type": "display_data"
    }
   ],
   "source": [
    "fig, ax = plt.subplots(figsize=(16, 8))\n",
    "sca = sns.scatterplot(data = result, x = \"C\", y = \"label\", hue = \"type\")\n",
    "sca.set_xlabel(\"C value in log10\")"
   ]
  },
  {
   "cell_type": "code",
   "execution_count": null,
   "metadata": {},
   "outputs": [],
   "source": []
  }
 ],
 "metadata": {
  "kernelspec": {
   "display_name": "Python 3",
   "language": "python",
   "name": "python3"
  },
  "language_info": {
   "codemirror_mode": {
    "name": "ipython",
    "version": 3
   },
   "file_extension": ".py",
   "mimetype": "text/x-python",
   "name": "python",
   "nbconvert_exporter": "python",
   "pygments_lexer": "ipython3",
   "version": "3.8.8"
  }
 },
 "nbformat": 4,
 "nbformat_minor": 4
}
