{
 "cells": [
  {
   "cell_type": "markdown",
   "metadata": {},
   "source": [
    "### IDs:\n",
    "Insert yours IDs to the cell below"
   ]
  },
  {
   "cell_type": "markdown",
   "metadata": {},
   "source": [
    "ID #1: \n",
    "\n",
    "ID #2: \n"
   ]
  },
  {
   "cell_type": "code",
   "execution_count": 1,
   "metadata": {},
   "outputs": [],
   "source": [
    "import numpy as np\n",
    "import pandas as pd\n",
    "import matplotlib.pyplot as plt\n",
    "import seaborn as sns\n",
    "from scipy import stats\n",
    "import math\n",
    "import random\n",
    "\n",
    "sns.set()"
   ]
  },
  {
   "cell_type": "markdown",
   "metadata": {},
   "source": [
    "## Read the following instructions carefully:\n",
    "\n",
    "1. This jupyter notebook contains all the step by step instructions needed for this exercise.\n",
    "1. You are free to add cells.\n",
    "1. Write your functions and your answers in this jupyter notebook only.\n",
    "1. Answers to theoretical questions should be written in **markdown cells (with $\\LaTeX$ support)**.\n",
    "1. Submit this jupyter notebook only using your ID as a filename. Not to use ZIP or RAR. For example, your Moodle submission file name should look like this (two id numbers): `123456789_987654321.ipynb`."
   ]
  },
  {
   "cell_type": "markdown",
   "metadata": {},
   "source": [
    "### Question 1 - Data exploration and visialization - practical"
   ]
  },
  {
   "cell_type": "markdown",
   "metadata": {},
   "source": [
    "Load Boston dataset from sklearn.\n",
    "Explore the data. follow th instructions below and make sure to support your answers with proper outputs and plots.\n",
    "When plotting, pay close attention to the range of the axis, and include axis labels and a title for the figure.\n",
    "\n",
    "1. Describe the dataset. How many samples does it contain? How many features? What isis the data type for each variable?\n",
    "2. Produce a histogram and a boxplot of the nitric oxides concentration. describe the distribution.\n",
    "3. Produce a correlation matrix of all the features. Are there any correlated features? Can you identify one feature with unusual behaviour?\n",
    "4. Select the 2 pairs of features with the highest correlation (positive or negative) and plot 2 scatter plots with marginal histograms (JointPlot). \n",
    "5. Produce a cumulative histogram of the age variable and add two horizontal lines on the first and third quartile (on the cumulative count)\n",
    "6. Identify and report 2 “interesting” trends in the data. No need to provide statistical confidence at this point. "
   ]
  },
  {
   "cell_type": "code",
   "execution_count": 6,
   "metadata": {},
   "outputs": [],
   "source": [
    "from sklearn.datasets import load_boston\n",
    "boston = load_boston()\n",
    "\n",
    "df = pd.DataFrame(data=boston.data, columns=boston.feature_names)\n",
    "df['PRICE'] = boston.target"
   ]
  },
  {
   "cell_type": "code",
   "execution_count": 7,
   "metadata": {},
   "outputs": [
    {
     "data": {
      "text/html": [
       "<div>\n",
       "<style scoped>\n",
       "    .dataframe tbody tr th:only-of-type {\n",
       "        vertical-align: middle;\n",
       "    }\n",
       "\n",
       "    .dataframe tbody tr th {\n",
       "        vertical-align: top;\n",
       "    }\n",
       "\n",
       "    .dataframe thead th {\n",
       "        text-align: right;\n",
       "    }\n",
       "</style>\n",
       "<table border=\"1\" class=\"dataframe\">\n",
       "  <thead>\n",
       "    <tr style=\"text-align: right;\">\n",
       "      <th></th>\n",
       "      <th>CRIM</th>\n",
       "      <th>ZN</th>\n",
       "      <th>INDUS</th>\n",
       "      <th>CHAS</th>\n",
       "      <th>NOX</th>\n",
       "      <th>RM</th>\n",
       "      <th>AGE</th>\n",
       "      <th>DIS</th>\n",
       "      <th>RAD</th>\n",
       "      <th>TAX</th>\n",
       "      <th>PTRATIO</th>\n",
       "      <th>B</th>\n",
       "      <th>LSTAT</th>\n",
       "      <th>PRICE</th>\n",
       "    </tr>\n",
       "  </thead>\n",
       "  <tbody>\n",
       "    <tr>\n",
       "      <th>0</th>\n",
       "      <td>0.00632</td>\n",
       "      <td>18.0</td>\n",
       "      <td>2.31</td>\n",
       "      <td>0.0</td>\n",
       "      <td>0.538</td>\n",
       "      <td>6.575</td>\n",
       "      <td>65.2</td>\n",
       "      <td>4.0900</td>\n",
       "      <td>1.0</td>\n",
       "      <td>296.0</td>\n",
       "      <td>15.3</td>\n",
       "      <td>396.90</td>\n",
       "      <td>4.98</td>\n",
       "      <td>24.0</td>\n",
       "    </tr>\n",
       "    <tr>\n",
       "      <th>1</th>\n",
       "      <td>0.02731</td>\n",
       "      <td>0.0</td>\n",
       "      <td>7.07</td>\n",
       "      <td>0.0</td>\n",
       "      <td>0.469</td>\n",
       "      <td>6.421</td>\n",
       "      <td>78.9</td>\n",
       "      <td>4.9671</td>\n",
       "      <td>2.0</td>\n",
       "      <td>242.0</td>\n",
       "      <td>17.8</td>\n",
       "      <td>396.90</td>\n",
       "      <td>9.14</td>\n",
       "      <td>21.6</td>\n",
       "    </tr>\n",
       "    <tr>\n",
       "      <th>2</th>\n",
       "      <td>0.02729</td>\n",
       "      <td>0.0</td>\n",
       "      <td>7.07</td>\n",
       "      <td>0.0</td>\n",
       "      <td>0.469</td>\n",
       "      <td>7.185</td>\n",
       "      <td>61.1</td>\n",
       "      <td>4.9671</td>\n",
       "      <td>2.0</td>\n",
       "      <td>242.0</td>\n",
       "      <td>17.8</td>\n",
       "      <td>392.83</td>\n",
       "      <td>4.03</td>\n",
       "      <td>34.7</td>\n",
       "    </tr>\n",
       "    <tr>\n",
       "      <th>3</th>\n",
       "      <td>0.03237</td>\n",
       "      <td>0.0</td>\n",
       "      <td>2.18</td>\n",
       "      <td>0.0</td>\n",
       "      <td>0.458</td>\n",
       "      <td>6.998</td>\n",
       "      <td>45.8</td>\n",
       "      <td>6.0622</td>\n",
       "      <td>3.0</td>\n",
       "      <td>222.0</td>\n",
       "      <td>18.7</td>\n",
       "      <td>394.63</td>\n",
       "      <td>2.94</td>\n",
       "      <td>33.4</td>\n",
       "    </tr>\n",
       "    <tr>\n",
       "      <th>4</th>\n",
       "      <td>0.06905</td>\n",
       "      <td>0.0</td>\n",
       "      <td>2.18</td>\n",
       "      <td>0.0</td>\n",
       "      <td>0.458</td>\n",
       "      <td>7.147</td>\n",
       "      <td>54.2</td>\n",
       "      <td>6.0622</td>\n",
       "      <td>3.0</td>\n",
       "      <td>222.0</td>\n",
       "      <td>18.7</td>\n",
       "      <td>396.90</td>\n",
       "      <td>5.33</td>\n",
       "      <td>36.2</td>\n",
       "    </tr>\n",
       "  </tbody>\n",
       "</table>\n",
       "</div>"
      ],
      "text/plain": [
       "      CRIM    ZN  INDUS  CHAS    NOX     RM   AGE     DIS  RAD    TAX  \\\n",
       "0  0.00632  18.0   2.31   0.0  0.538  6.575  65.2  4.0900  1.0  296.0   \n",
       "1  0.02731   0.0   7.07   0.0  0.469  6.421  78.9  4.9671  2.0  242.0   \n",
       "2  0.02729   0.0   7.07   0.0  0.469  7.185  61.1  4.9671  2.0  242.0   \n",
       "3  0.03237   0.0   2.18   0.0  0.458  6.998  45.8  6.0622  3.0  222.0   \n",
       "4  0.06905   0.0   2.18   0.0  0.458  7.147  54.2  6.0622  3.0  222.0   \n",
       "\n",
       "   PTRATIO       B  LSTAT  PRICE  \n",
       "0     15.3  396.90   4.98   24.0  \n",
       "1     17.8  396.90   9.14   21.6  \n",
       "2     17.8  392.83   4.03   34.7  \n",
       "3     18.7  394.63   2.94   33.4  \n",
       "4     18.7  396.90   5.33   36.2  "
      ]
     },
     "execution_count": 7,
     "metadata": {},
     "output_type": "execute_result"
    }
   ],
   "source": [
    "df.head()"
   ]
  },
  {
   "cell_type": "markdown",
   "metadata": {},
   "source": [
    "---\n",
    "#### 1.1 Describe the dataset\n",
    "Q: How many samples does it contain?  \n",
    "A: There are 506 pieces of samples."
   ]
  },
  {
   "cell_type": "code",
   "execution_count": 8,
   "metadata": {},
   "outputs": [
    {
     "data": {
      "text/plain": [
       "506"
      ]
     },
     "execution_count": 8,
     "metadata": {},
     "output_type": "execute_result"
    }
   ],
   "source": [
    "len(df)"
   ]
  },
  {
   "cell_type": "markdown",
   "metadata": {},
   "source": [
    "Q: How many features?  \n",
    "A: There are 14 features."
   ]
  },
  {
   "cell_type": "code",
   "execution_count": 9,
   "metadata": {},
   "outputs": [
    {
     "name": "stdout",
     "output_type": "stream",
     "text": [
      "<class 'pandas.core.frame.DataFrame'>\n",
      "RangeIndex: 506 entries, 0 to 505\n",
      "Data columns (total 14 columns):\n",
      " #   Column   Non-Null Count  Dtype  \n",
      "---  ------   --------------  -----  \n",
      " 0   CRIM     506 non-null    float64\n",
      " 1   ZN       506 non-null    float64\n",
      " 2   INDUS    506 non-null    float64\n",
      " 3   CHAS     506 non-null    float64\n",
      " 4   NOX      506 non-null    float64\n",
      " 5   RM       506 non-null    float64\n",
      " 6   AGE      506 non-null    float64\n",
      " 7   DIS      506 non-null    float64\n",
      " 8   RAD      506 non-null    float64\n",
      " 9   TAX      506 non-null    float64\n",
      " 10  PTRATIO  506 non-null    float64\n",
      " 11  B        506 non-null    float64\n",
      " 12  LSTAT    506 non-null    float64\n",
      " 13  PRICE    506 non-null    float64\n",
      "dtypes: float64(14)\n",
      "memory usage: 55.5 KB\n"
     ]
    }
   ],
   "source": [
    "df.info()"
   ]
  },
  {
   "cell_type": "markdown",
   "metadata": {},
   "source": [
    "Q: What is the data type for each variable?  \n",
    "A: float64"
   ]
  },
  {
   "cell_type": "code",
   "execution_count": 10,
   "metadata": {},
   "outputs": [
    {
     "data": {
      "text/plain": [
       "CRIM       float64\n",
       "ZN         float64\n",
       "INDUS      float64\n",
       "CHAS       float64\n",
       "NOX        float64\n",
       "RM         float64\n",
       "AGE        float64\n",
       "DIS        float64\n",
       "RAD        float64\n",
       "TAX        float64\n",
       "PTRATIO    float64\n",
       "B          float64\n",
       "LSTAT      float64\n",
       "PRICE      float64\n",
       "dtype: object"
      ]
     },
     "execution_count": 10,
     "metadata": {},
     "output_type": "execute_result"
    }
   ],
   "source": [
    "df.dtypes"
   ]
  },
  {
   "cell_type": "code",
   "execution_count": 11,
   "metadata": {
    "scrolled": true
   },
   "outputs": [
    {
     "data": {
      "text/html": [
       "<div>\n",
       "<style scoped>\n",
       "    .dataframe tbody tr th:only-of-type {\n",
       "        vertical-align: middle;\n",
       "    }\n",
       "\n",
       "    .dataframe tbody tr th {\n",
       "        vertical-align: top;\n",
       "    }\n",
       "\n",
       "    .dataframe thead th {\n",
       "        text-align: right;\n",
       "    }\n",
       "</style>\n",
       "<table border=\"1\" class=\"dataframe\">\n",
       "  <thead>\n",
       "    <tr style=\"text-align: right;\">\n",
       "      <th></th>\n",
       "      <th>CRIM</th>\n",
       "      <th>ZN</th>\n",
       "      <th>INDUS</th>\n",
       "      <th>CHAS</th>\n",
       "      <th>NOX</th>\n",
       "      <th>RM</th>\n",
       "      <th>AGE</th>\n",
       "      <th>DIS</th>\n",
       "      <th>RAD</th>\n",
       "      <th>TAX</th>\n",
       "      <th>PTRATIO</th>\n",
       "      <th>B</th>\n",
       "      <th>LSTAT</th>\n",
       "      <th>PRICE</th>\n",
       "    </tr>\n",
       "  </thead>\n",
       "  <tbody>\n",
       "    <tr>\n",
       "      <th>count</th>\n",
       "      <td>506.000000</td>\n",
       "      <td>506.000000</td>\n",
       "      <td>506.000000</td>\n",
       "      <td>506.000000</td>\n",
       "      <td>506.000000</td>\n",
       "      <td>506.000000</td>\n",
       "      <td>506.000000</td>\n",
       "      <td>506.000000</td>\n",
       "      <td>506.000000</td>\n",
       "      <td>506.000000</td>\n",
       "      <td>506.000000</td>\n",
       "      <td>506.000000</td>\n",
       "      <td>506.000000</td>\n",
       "      <td>506.000000</td>\n",
       "    </tr>\n",
       "    <tr>\n",
       "      <th>mean</th>\n",
       "      <td>3.613524</td>\n",
       "      <td>11.363636</td>\n",
       "      <td>11.136779</td>\n",
       "      <td>0.069170</td>\n",
       "      <td>0.554695</td>\n",
       "      <td>6.284634</td>\n",
       "      <td>68.574901</td>\n",
       "      <td>3.795043</td>\n",
       "      <td>9.549407</td>\n",
       "      <td>408.237154</td>\n",
       "      <td>18.455534</td>\n",
       "      <td>356.674032</td>\n",
       "      <td>12.653063</td>\n",
       "      <td>22.532806</td>\n",
       "    </tr>\n",
       "    <tr>\n",
       "      <th>std</th>\n",
       "      <td>8.601545</td>\n",
       "      <td>23.322453</td>\n",
       "      <td>6.860353</td>\n",
       "      <td>0.253994</td>\n",
       "      <td>0.115878</td>\n",
       "      <td>0.702617</td>\n",
       "      <td>28.148861</td>\n",
       "      <td>2.105710</td>\n",
       "      <td>8.707259</td>\n",
       "      <td>168.537116</td>\n",
       "      <td>2.164946</td>\n",
       "      <td>91.294864</td>\n",
       "      <td>7.141062</td>\n",
       "      <td>9.197104</td>\n",
       "    </tr>\n",
       "    <tr>\n",
       "      <th>min</th>\n",
       "      <td>0.006320</td>\n",
       "      <td>0.000000</td>\n",
       "      <td>0.460000</td>\n",
       "      <td>0.000000</td>\n",
       "      <td>0.385000</td>\n",
       "      <td>3.561000</td>\n",
       "      <td>2.900000</td>\n",
       "      <td>1.129600</td>\n",
       "      <td>1.000000</td>\n",
       "      <td>187.000000</td>\n",
       "      <td>12.600000</td>\n",
       "      <td>0.320000</td>\n",
       "      <td>1.730000</td>\n",
       "      <td>5.000000</td>\n",
       "    </tr>\n",
       "    <tr>\n",
       "      <th>25%</th>\n",
       "      <td>0.082045</td>\n",
       "      <td>0.000000</td>\n",
       "      <td>5.190000</td>\n",
       "      <td>0.000000</td>\n",
       "      <td>0.449000</td>\n",
       "      <td>5.885500</td>\n",
       "      <td>45.025000</td>\n",
       "      <td>2.100175</td>\n",
       "      <td>4.000000</td>\n",
       "      <td>279.000000</td>\n",
       "      <td>17.400000</td>\n",
       "      <td>375.377500</td>\n",
       "      <td>6.950000</td>\n",
       "      <td>17.025000</td>\n",
       "    </tr>\n",
       "    <tr>\n",
       "      <th>50%</th>\n",
       "      <td>0.256510</td>\n",
       "      <td>0.000000</td>\n",
       "      <td>9.690000</td>\n",
       "      <td>0.000000</td>\n",
       "      <td>0.538000</td>\n",
       "      <td>6.208500</td>\n",
       "      <td>77.500000</td>\n",
       "      <td>3.207450</td>\n",
       "      <td>5.000000</td>\n",
       "      <td>330.000000</td>\n",
       "      <td>19.050000</td>\n",
       "      <td>391.440000</td>\n",
       "      <td>11.360000</td>\n",
       "      <td>21.200000</td>\n",
       "    </tr>\n",
       "    <tr>\n",
       "      <th>75%</th>\n",
       "      <td>3.677083</td>\n",
       "      <td>12.500000</td>\n",
       "      <td>18.100000</td>\n",
       "      <td>0.000000</td>\n",
       "      <td>0.624000</td>\n",
       "      <td>6.623500</td>\n",
       "      <td>94.075000</td>\n",
       "      <td>5.188425</td>\n",
       "      <td>24.000000</td>\n",
       "      <td>666.000000</td>\n",
       "      <td>20.200000</td>\n",
       "      <td>396.225000</td>\n",
       "      <td>16.955000</td>\n",
       "      <td>25.000000</td>\n",
       "    </tr>\n",
       "    <tr>\n",
       "      <th>max</th>\n",
       "      <td>88.976200</td>\n",
       "      <td>100.000000</td>\n",
       "      <td>27.740000</td>\n",
       "      <td>1.000000</td>\n",
       "      <td>0.871000</td>\n",
       "      <td>8.780000</td>\n",
       "      <td>100.000000</td>\n",
       "      <td>12.126500</td>\n",
       "      <td>24.000000</td>\n",
       "      <td>711.000000</td>\n",
       "      <td>22.000000</td>\n",
       "      <td>396.900000</td>\n",
       "      <td>37.970000</td>\n",
       "      <td>50.000000</td>\n",
       "    </tr>\n",
       "  </tbody>\n",
       "</table>\n",
       "</div>"
      ],
      "text/plain": [
       "             CRIM          ZN       INDUS        CHAS         NOX          RM  \\\n",
       "count  506.000000  506.000000  506.000000  506.000000  506.000000  506.000000   \n",
       "mean     3.613524   11.363636   11.136779    0.069170    0.554695    6.284634   \n",
       "std      8.601545   23.322453    6.860353    0.253994    0.115878    0.702617   \n",
       "min      0.006320    0.000000    0.460000    0.000000    0.385000    3.561000   \n",
       "25%      0.082045    0.000000    5.190000    0.000000    0.449000    5.885500   \n",
       "50%      0.256510    0.000000    9.690000    0.000000    0.538000    6.208500   \n",
       "75%      3.677083   12.500000   18.100000    0.000000    0.624000    6.623500   \n",
       "max     88.976200  100.000000   27.740000    1.000000    0.871000    8.780000   \n",
       "\n",
       "              AGE         DIS         RAD         TAX     PTRATIO           B  \\\n",
       "count  506.000000  506.000000  506.000000  506.000000  506.000000  506.000000   \n",
       "mean    68.574901    3.795043    9.549407  408.237154   18.455534  356.674032   \n",
       "std     28.148861    2.105710    8.707259  168.537116    2.164946   91.294864   \n",
       "min      2.900000    1.129600    1.000000  187.000000   12.600000    0.320000   \n",
       "25%     45.025000    2.100175    4.000000  279.000000   17.400000  375.377500   \n",
       "50%     77.500000    3.207450    5.000000  330.000000   19.050000  391.440000   \n",
       "75%     94.075000    5.188425   24.000000  666.000000   20.200000  396.225000   \n",
       "max    100.000000   12.126500   24.000000  711.000000   22.000000  396.900000   \n",
       "\n",
       "            LSTAT       PRICE  \n",
       "count  506.000000  506.000000  \n",
       "mean    12.653063   22.532806  \n",
       "std      7.141062    9.197104  \n",
       "min      1.730000    5.000000  \n",
       "25%      6.950000   17.025000  \n",
       "50%     11.360000   21.200000  \n",
       "75%     16.955000   25.000000  \n",
       "max     37.970000   50.000000  "
      ]
     },
     "execution_count": 11,
     "metadata": {},
     "output_type": "execute_result"
    }
   ],
   "source": [
    "df.describe()"
   ]
  },
  {
   "cell_type": "markdown",
   "metadata": {},
   "source": [
    "---\n",
    "#### 1.2 Produce a histogram and a boxplot of the nitric oxides concentration. Describe the distribution.\n",
    "We can tell from the histogram that the number of record which NOX bewtween 0.4-0.5 and 0.5-0.6 are more than others.  \n",
    "From boxplot, we can tell the median of NOX is around 0.5-0.55. The 50% of the record is between 0.45-0.63. The min and max of the record are around 0.38 and 0.9. There is no outliers."
   ]
  },
  {
   "cell_type": "code",
   "execution_count": 12,
   "metadata": {},
   "outputs": [
    {
     "data": {
      "image/png": "[encoded data removed]",
      "text/plain": [
       "<Figure size 864x288 with 2 Axes>"
      ]
     },
     "metadata": {
      "needs_background": "light"
     },
     "output_type": "display_data"
    }
   ],
   "source": [
    "fig, ax = plt.subplots(1, 2, figsize=(12, 4))\n",
    "sns.histplot(data = df, x = 'NOX', ax = ax[0])\n",
    "sns.boxplot(data = df, x = 'NOX', ax = ax[1])\n",
    "plt.suptitle('Distribution of nitric oxides concentration')\n",
    "ax[0].set_title('Histogram', fontdict={'fontsize': 15})\n",
    "ax[1].set_title('Boxplot', fontdict={'fontsize': 15})\n",
    "plt.show()"
   ]
  },
  {
   "cell_type": "markdown",
   "metadata": {},
   "source": [
    "---\n",
    "#### 1.3 Produce a correlation matrix of all the features. Are there any correlated features? Can you identify one feature with unusual behaviour?\n",
    "From the heatmap, we can see corr(TAX, RAD)=0.91, which means TAX and RAD are highly positive correlation.\n",
    "DIS is partial negative correlation with INDUS, NOX, AGE respectively.  \n",
    "We speculate that row number 4 (CHAS) is an outlier, the feature with unusual behaviour, because it has almost zero correlation with everything else."
   ]
  },
  {
   "cell_type": "code",
   "execution_count": 13,
   "metadata": {},
   "outputs": [
    {
     "data": {
      "image/png": "[encoded data removed]",
      "text/plain": [
       "<Figure size 864x648 with 2 Axes>"
      ]
     },
     "metadata": {
      "needs_background": "light"
     },
     "output_type": "display_data"
    }
   ],
   "source": [
    "plt.figure(figsize = (12, 9))\n",
    "sns.heatmap(df.corr(), vmin = -1, vmax = 1, cmap = \"RdYlBu\", annot=True)\n",
    "plt.title('Heatmap of correlation for all features', fontdict={'fontsize': 25})\n",
    "plt.show()"
   ]
  },
  {
   "cell_type": "markdown",
   "metadata": {},
   "source": [
    "---\n",
    "#### 1.4 Select the 2 pairs of features with the highest correlation (positive or negative) and plot 2 scatter plots with marginal histograms (JointPlot). "
   ]
  },
  {
   "cell_type": "code",
   "execution_count": 14,
   "metadata": {},
   "outputs": [],
   "source": [
    "def get_corr_features(df, n):\n",
    "    abs_df = abs(df.corr())\n",
    "    max_corr = abs_df.stack().nlargest(len(abs_df) + 2*n)\n",
    "    return dict(zip(list(max_corr[len(abs_df):].index)[::2], list(max_corr[len(abs_df):].values)[::2]))"
   ]
  },
  {
   "cell_type": "markdown",
   "metadata": {},
   "source": [
    "We can find the correlative features:"
   ]
  },
  {
   "cell_type": "code",
   "execution_count": 15,
   "metadata": {},
   "outputs": [
    {
     "data": {
      "text/plain": [
       "{('RAD', 'TAX'): 0.9102281885331865, ('NOX', 'DIS'): 0.7692301132258282}"
      ]
     },
     "execution_count": 15,
     "metadata": {},
     "output_type": "execute_result"
    }
   ],
   "source": [
    "corr_features = get_corr_features(df, 2)\n",
    "corr_features"
   ]
  },
  {
   "cell_type": "markdown",
   "metadata": {},
   "source": [
    "Select the 2 pairs of features with the highest correlation (positive or negative) and plot 2 scatter plots with marginal histograms (JointPlot)."
   ]
  },
  {
   "cell_type": "code",
   "execution_count": 16,
   "metadata": {},
   "outputs": [
    {
     "data": {
      "image/png": "[encoded data removed]",
      "text/plain": [
       "<Figure size 432x432 with 3 Axes>"
      ]
     },
     "metadata": {
      "needs_background": "light"
     },
     "output_type": "display_data"
    }
   ],
   "source": [
    "sns.jointplot(data=df, x=list(corr_features.keys())[0][0], y=list(corr_features.keys())[0][1])\n",
    "plt.suptitle('JointPlot of RAD & TAX', y = 1.02)\n",
    "plt.show()"
   ]
  },
  {
   "cell_type": "code",
   "execution_count": 17,
   "metadata": {},
   "outputs": [
    {
     "data": {
      "image/png": "[encoded data removed]",
      "text/plain": [
       "<Figure size 432x432 with 3 Axes>"
      ]
     },
     "metadata": {
      "needs_background": "light"
     },
     "output_type": "display_data"
    }
   ],
   "source": [
    "sns.jointplot(data=df, x=list(corr_features.keys())[1][0], y=list(corr_features.keys())[1][1])\n",
    "plt.suptitle('JointPlot of NOX & DIS', y = 1.02)\n",
    "plt.show()"
   ]
  },
  {
   "cell_type": "markdown",
   "metadata": {},
   "source": [
    "---\n",
    "#### 1.5 Produce a cumulative histogram of the age variable and add two horizontal lines on the first and third quartile (on the cumulative count)"
   ]
  },
  {
   "cell_type": "code",
   "execution_count": 18,
   "metadata": {
    "scrolled": true
   },
   "outputs": [
    {
     "data": {
      "image/png": "[encoded data removed]",
      "text/plain": [
       "<Figure size 576x288 with 1 Axes>"
      ]
     },
     "metadata": {
      "needs_background": "light"
     },
     "output_type": "display_data"
    }
   ],
   "source": [
    "quantiles = df['AGE'].quantile([0.25,0.75])\n",
    "q1 = quantiles.values[0]\n",
    "q3 = quantiles.values[1]\n",
    "\n",
    "fig, ax = plt.subplots(figsize=(8, 4))\n",
    "n, bins, patches = ax.hist(df['AGE'], 50, density=True, histtype='step', cumulative=True)\n",
    "ax.hlines(y=0.25, xmin=0, xmax=100, linewidth=2, color='r', label='first quartile')\n",
    "ax.hlines(y=0.75, xmin=0, xmax=100, linewidth=2, color='g', label='third quartile')\n",
    "\n",
    "ax.set_xlabel('AGE')\n",
    "ax.set_ylabel('Cumulative density')\n",
    "plt.suptitle('Cumulative histogram of age')\n",
    "plt.legend(loc='upper left')\n",
    "plt.show()"
   ]
  },
  {
   "cell_type": "markdown",
   "metadata": {},
   "source": [
    "---\n",
    "#### 1.6 Identify and report 2 “interesting” trends in the data. No need to provide statistical confidence at this point. "
   ]
  },
  {
   "cell_type": "markdown",
   "metadata": {},
   "source": [
    "Produce a cumulative histogram of the age variable and add two horizontal lines on the first and third quartile (on the cumulative count)\n",
    "\n",
    "Identify and report 2 “interesting” trends in the data. No need to provide statistical confide"
   ]
  },
  {
   "cell_type": "markdown",
   "metadata": {},
   "source": [
    "First interesting point: features have a correlation to the target!\n",
    "\n",
    "To test this, We will test the mean_squared_error of random forest model VS mean of random guess 20 times.\n",
    "\n",
    "random guess:"
   ]
  },
  {
   "cell_type": "code",
   "execution_count": 19,
   "metadata": {},
   "outputs": [
    {
     "data": {
      "text/plain": [
       "291.08179640718566"
      ]
     },
     "execution_count": 19,
     "metadata": {},
     "output_type": "execute_result"
    }
   ],
   "source": [
    "from sklearn.ensemble import RandomForestRegressor\n",
    "from sklearn.model_selection import train_test_split\n",
    "from sklearn.metrics import mean_squared_error\n",
    "X_train, X_test, y_train, y_test = train_test_split(df.drop('PRICE', axis = 1), df['PRICE'], test_size=0.33, random_state=42)\n",
    "rg_mse = np.mean([mean_squared_error(y_test, np.random.randint(0, max(df['PRICE']), len(X_test))) for i in range(20)])\n",
    "rg_mse"
   ]
  },
  {
   "cell_type": "markdown",
   "metadata": {},
   "source": [
    "random forest:"
   ]
  },
  {
   "cell_type": "code",
   "execution_count": 20,
   "metadata": {},
   "outputs": [
    {
     "data": {
      "text/plain": [
       "10.536375754491011"
      ]
     },
     "execution_count": 20,
     "metadata": {},
     "output_type": "execute_result"
    }
   ],
   "source": [
    "rf = RandomForestRegressor()\n",
    "rf.fit(X_train, y_train)\n",
    "rf_mse = mean_squared_error(y_test, rf.predict(X_test))\n",
    "rf_mse"
   ]
  },
  {
   "cell_type": "code",
   "execution_count": 21,
   "metadata": {},
   "outputs": [
    {
     "data": {
      "text/plain": [
       "27.626368230377064"
      ]
     },
     "execution_count": 21,
     "metadata": {},
     "output_type": "execute_result"
    }
   ],
   "source": [
    "rg_mse/rf_mse"
   ]
  },
  {
   "cell_type": "markdown",
   "metadata": {},
   "source": [
    "It can see that the correlation is 29 times higher than an average random guess"
   ]
  },
  {
   "cell_type": "markdown",
   "metadata": {},
   "source": [
    "The second interesting point: Half the correlation to the target is mainly based on only two features only!"
   ]
  },
  {
   "cell_type": "code",
   "execution_count": 22,
   "metadata": {},
   "outputs": [
    {
     "data": {
      "text/html": [
       "<div>\n",
       "<style scoped>\n",
       "    .dataframe tbody tr th:only-of-type {\n",
       "        vertical-align: middle;\n",
       "    }\n",
       "\n",
       "    .dataframe tbody tr th {\n",
       "        vertical-align: top;\n",
       "    }\n",
       "\n",
       "    .dataframe thead th {\n",
       "        text-align: right;\n",
       "    }\n",
       "</style>\n",
       "<table border=\"1\" class=\"dataframe\">\n",
       "  <thead>\n",
       "    <tr style=\"text-align: right;\">\n",
       "      <th></th>\n",
       "      <th>feature_importances</th>\n",
       "    </tr>\n",
       "  </thead>\n",
       "  <tbody>\n",
       "    <tr>\n",
       "      <th>CHAS</th>\n",
       "      <td>0.001111</td>\n",
       "    </tr>\n",
       "    <tr>\n",
       "      <th>ZN</th>\n",
       "      <td>0.003817</td>\n",
       "    </tr>\n",
       "    <tr>\n",
       "      <th>RAD</th>\n",
       "      <td>0.004828</td>\n",
       "    </tr>\n",
       "    <tr>\n",
       "      <th>INDUS</th>\n",
       "      <td>0.006170</td>\n",
       "    </tr>\n",
       "    <tr>\n",
       "      <th>NOX</th>\n",
       "      <td>0.012318</td>\n",
       "    </tr>\n",
       "    <tr>\n",
       "      <th>TAX</th>\n",
       "      <td>0.013253</td>\n",
       "    </tr>\n",
       "    <tr>\n",
       "      <th>B</th>\n",
       "      <td>0.014357</td>\n",
       "    </tr>\n",
       "    <tr>\n",
       "      <th>PTRATIO</th>\n",
       "      <td>0.015726</td>\n",
       "    </tr>\n",
       "    <tr>\n",
       "      <th>AGE</th>\n",
       "      <td>0.015982</td>\n",
       "    </tr>\n",
       "    <tr>\n",
       "      <th>CRIM</th>\n",
       "      <td>0.032128</td>\n",
       "    </tr>\n",
       "    <tr>\n",
       "      <th>DIS</th>\n",
       "      <td>0.055458</td>\n",
       "    </tr>\n",
       "    <tr>\n",
       "      <th>RM</th>\n",
       "      <td>0.398531</td>\n",
       "    </tr>\n",
       "    <tr>\n",
       "      <th>LSTAT</th>\n",
       "      <td>0.426321</td>\n",
       "    </tr>\n",
       "  </tbody>\n",
       "</table>\n",
       "</div>"
      ],
      "text/plain": [
       "         feature_importances\n",
       "CHAS                0.001111\n",
       "ZN                  0.003817\n",
       "RAD                 0.004828\n",
       "INDUS               0.006170\n",
       "NOX                 0.012318\n",
       "TAX                 0.013253\n",
       "B                   0.014357\n",
       "PTRATIO             0.015726\n",
       "AGE                 0.015982\n",
       "CRIM                0.032128\n",
       "DIS                 0.055458\n",
       "RM                  0.398531\n",
       "LSTAT               0.426321"
      ]
     },
     "execution_count": 22,
     "metadata": {},
     "output_type": "execute_result"
    }
   ],
   "source": [
    "fi = pd.DataFrame(dict(zip(list(X_test.columns),list(rf.feature_importances_))), index=['feature_importances']).T.sort_values(by = 'feature_importances')\n",
    "fi"
   ]
  },
  {
   "cell_type": "code",
   "execution_count": 23,
   "metadata": {},
   "outputs": [
    {
     "data": {
      "text/plain": [
       "['RM', 'LSTAT']"
      ]
     },
     "execution_count": 23,
     "metadata": {},
     "output_type": "execute_result"
    }
   ],
   "source": [
    "list_most_feature_importances = list(fi.loc[fi['feature_importances']>0.1].index)\n",
    "list_most_feature_importances"
   ]
  },
  {
   "cell_type": "code",
   "execution_count": 24,
   "metadata": {},
   "outputs": [
    {
     "data": {
      "text/plain": [
       "21.387312760479034"
      ]
     },
     "execution_count": 24,
     "metadata": {},
     "output_type": "execute_result"
    }
   ],
   "source": [
    "rf = RandomForestRegressor()\n",
    "rf.fit(X_train[list_most_feature_importances], y_train)\n",
    "rf_fi_mse = mean_squared_error(y_test, rf.predict(X_test[list_most_feature_importances]))\n",
    "rf_fi_mse"
   ]
  },
  {
   "cell_type": "code",
   "execution_count": 25,
   "metadata": {},
   "outputs": [
    {
     "data": {
      "text/plain": [
       "13.610021963351416"
      ]
     },
     "execution_count": 25,
     "metadata": {},
     "output_type": "execute_result"
    }
   ],
   "source": [
    "rg_mse/rf_fi_mse"
   ]
  },
  {
   "cell_type": "markdown",
   "metadata": {},
   "source": [
    "It can see that the correlation is 14 times higher than an average random guess\n",
    "\n",
    "Using all the features resulted in a double result in only two"
   ]
  },
  {
   "cell_type": "markdown",
   "metadata": {},
   "source": [
    "---\n",
    "### Question 2 - Independence and conditional independence"
   ]
  },
  {
   "cell_type": "markdown",
   "metadata": {},
   "source": [
    "#### 2.A\n",
    "Let $\\ X, Y \\ $ and $Z$  be discrete random variables with $\\ n, m \\ $ and $k=4$ possible outcomes respectivley.\n",
    "\n",
    "How many parameters define the joint distribution of $\\ X, Y \\ $ and $Z$?"
   ]
  },
  {
   "cell_type": "markdown",
   "metadata": {},
   "source": [
    "Because we do not know whether the variables 𝑋,𝑌 and 𝑍 are dependent or independent therefore to define the joint distribution of 𝑋,𝑌 and 𝑍 we need the probability of each combination of them (Except for the last combination which we can calculate by ourselves)\n",
    "\n",
    "So we expect a result that will be: $k*m*n-1=4mn-1$"
   ]
  },
  {
   "cell_type": "code",
   "execution_count": 26,
   "metadata": {},
   "outputs": [],
   "source": [
    "def num_joint_dist_params(n,m,k):\n",
    "    return n*k*m-1"
   ]
  },
  {
   "cell_type": "markdown",
   "metadata": {},
   "source": [
    "For example, if we knew that n=4 & m=4, The result was:"
   ]
  },
  {
   "cell_type": "code",
   "execution_count": 27,
   "metadata": {},
   "outputs": [
    {
     "data": {
      "text/plain": [
       "63"
      ]
     },
     "execution_count": 27,
     "metadata": {},
     "output_type": "execute_result"
    }
   ],
   "source": [
    "num_joint_dist_params(n = 4 ,m = 4, k= 4)"
   ]
  },
  {
   "cell_type": "markdown",
   "metadata": {},
   "source": [
    "#### 2.B\n",
    "For the same random variables from the previous section, how many parameters define the joint distribution of $\\ X, Y \\ $ and $Z$ if we now know that they are independent?"
   ]
  },
  {
   "cell_type": "markdown",
   "metadata": {},
   "source": [
    "Because we know the variables 𝑋,𝑌 and 𝑍 are independent, therefore to define the joint distribution of 𝑋,𝑌 and 𝑍 we dont need the probability of each combination of them because $p(x\\cup y \\cup z) = p(x)\\cdot p(y) \\cdot z(y)$\n",
    "\n",
    "So we expect a result that will be: $ (n-1)+(m-1)+ (4 - 1) = n + m + 1 $ "
   ]
  },
  {
   "cell_type": "code",
   "execution_count": 28,
   "metadata": {},
   "outputs": [],
   "source": [
    "def num_joint_dist_params_independent(n,m,k):\n",
    "    return n-1+m-1+k-1"
   ]
  },
  {
   "cell_type": "markdown",
   "metadata": {},
   "source": [
    "For example, if we knew that n=4 & m=4, The result was:"
   ]
  },
  {
   "cell_type": "code",
   "execution_count": 29,
   "metadata": {},
   "outputs": [
    {
     "data": {
      "text/plain": [
       "9"
      ]
     },
     "execution_count": 29,
     "metadata": {},
     "output_type": "execute_result"
    }
   ],
   "source": [
    "num_joint_dist_params_independent(n = 4 ,m = 4, k= 4)"
   ]
  },
  {
   "cell_type": "markdown",
   "metadata": {},
   "source": [
    "#### 2.C\n",
    "For the same random variables from the previous section, how many parameters define the joint distribution of $\\ X, Y \\ $ and $Z$ if we now know that $X$ and $Y$ are conditionaly independent given $Z$?"
   ]
  },
  {
   "cell_type": "markdown",
   "metadata": {},
   "source": [
    "In that case we must to know all the params of $ p(x\\cup z) , p(y \\cup z), p(z)$\n",
    "\n",
    "So we expect a result that will be: $(4n-1) + (4m-1) + (4-1) = 4n + 4m + 1$"
   ]
  },
  {
   "cell_type": "code",
   "execution_count": 30,
   "metadata": {},
   "outputs": [],
   "source": [
    "def num_joint_dist_params_independent_given_Z(n,m,k):\n",
    "    return (k*n-1) + (k*m-1) + (k-1)"
   ]
  },
  {
   "cell_type": "markdown",
   "metadata": {},
   "source": [
    "For example, if we knew that n=4 & m=4, The result was:"
   ]
  },
  {
   "cell_type": "code",
   "execution_count": 31,
   "metadata": {},
   "outputs": [
    {
     "data": {
      "text/plain": [
       "33"
      ]
     },
     "execution_count": 31,
     "metadata": {},
     "output_type": "execute_result"
    }
   ],
   "source": [
    "num_joint_dist_params_independent_given_Z(4, 4, 4)"
   ]
  },
  {
   "cell_type": "markdown",
   "metadata": {},
   "source": [
    "It is possible to see that when all the variables could be dependent (section A) we would need the maximum number of parameters.\n",
    "\n",
    "When all variables were independent (section B), we needed the minimum amount of parameters.\n",
    "\n",
    "When two variables were independent given a third variable (section C), we needed a medium amount of parameters.\n"
   ]
  },
  {
   "cell_type": "markdown",
   "metadata": {},
   "source": [
    "#### 2.D\n",
    "Give an example for a joint distribution of $\\ U, V \\ $ and $W$ where $U$ and $V$ are NOT conditionally independent given $W$, but $U$ and $V$ are (unconditionally) independent. Also: $U$ and $V$ are standard normally distributed ($N(0, 1)$) and $W$ is a coin (2 possible values)."
   ]
  },
  {
   "cell_type": "markdown",
   "metadata": {},
   "source": [
    "In essence, conditional dependence probability is influenced from information about the possible occurrence of an event:\n",
    "\n",
    "$U ~ N(0,1)$\n",
    "\n",
    "$V ~ N(0,1)$\n",
    "\n",
    "$W ~ Does ~ U+V > 0.5$\n",
    "\n",
    "If W = 1: U+V >0.5\n",
    "\n",
    "If W = 0: U+V <=0.5\n",
    "\n",
    "**U & V are (unconditionally) independent.**\n",
    "- Both are independent random variables\n",
    "\n",
    "**𝑈  and  𝑉  are NOT conditionally independent (Conditional dependence) given 𝑊:**\n",
    "- If W = 1: \n",
    "    - P(V>0.5) < P(V>0.5 | U > 0.5)\n",
    "    - P(U>0.5) < P(U>0.5 | V > 0.5)\n",
    "- If W = 0: \n",
    "    - P(V<0.5) < P(V<0.5 | U < 0.5)\n",
    "    - P(U<0.5) < P(U<0.5 | V < 0.5)    \n",
    "    \n",
    "This example is based on the classic case of conditional dependence while adjusting to the variables defined in the question:\n",
    "\n",
    "Let the event A be 'I have a new phone'; event B be 'I have a new watch'; and event C be 'I am happy'; and suppose that having either a new phone or a new watch increases the probability of my being happy. \n",
    "\n",
    "Let us assume that the event C has occurred – meaning 'I am happy'. \n",
    "\n",
    "Now if another person sees my new watch, he/she will reason that my likelihood of being happy was increased by my new watch, so there is less need to attribute my happiness to a new phone."
   ]
  },
  {
   "cell_type": "markdown",
   "metadata": {},
   "source": [
    "### Question 3 - Gaussian mixtures – parameter estimation and generation "
   ]
  },
  {
   "cell_type": "markdown",
   "metadata": {},
   "source": [
    "Consider the data provided in GMD.csv\n",
    "Assume that the data comes from a Gaussian mixture distribution (GMD) with $k=3$. Furthermore, assume that $\\mu_{1}=4, \\mu_{2}=9, \\sigma_{1}=\\sigma_{2}=0.5, \\sigma_3=1.5$ and $w_2=0.25$.\n",
    "\n",
    "Read the data and answer the following questions."
   ]
  },
  {
   "cell_type": "markdown",
   "metadata": {},
   "source": [
    "#### 3.A\n",
    "Provide an estimate for the other parameters of the distribution in two different ways."
   ]
  },
  {
   "cell_type": "code",
   "execution_count": 32,
   "metadata": {},
   "outputs": [],
   "source": [
    "df = pd.read_csv(\"GMD.csv\", index_col=0, header = None)"
   ]
  },
  {
   "cell_type": "markdown",
   "metadata": {},
   "source": [
    "To estimate the other parameters of the GMD, we can use two different approaches: maximum likelihood estimation (MLE) and the Expectation-Maximization (EM) algorithm."
   ]
  },
  {
   "cell_type": "markdown",
   "metadata": {},
   "source": [
    "#### First method - MLE\n",
    "To find the values for 𝜇3, 𝑤1, and 𝑤3 using MLE (maximum likelihood estimation), we can define a likelihood function and maximize it using an optimization algorithm"
   ]
  },
  {
   "cell_type": "code",
   "execution_count": 33,
   "metadata": {},
   "outputs": [
    {
     "name": "stdout",
     "output_type": "stream",
     "text": [
      "mu3 = 15.1\n",
      "w1 = 0.125\n",
      "w3 = 0.625\n"
     ]
    }
   ],
   "source": [
    "from scipy.optimize import minimize\n",
    "from scipy.stats import norm\n",
    "import numpy as np\n",
    "\n",
    "# Define the means, standard deviations, and weights for the three components of the GMD\n",
    "mu1 = 4\n",
    "mu2 = 9\n",
    "sigma1 = 0.5\n",
    "sigma2 = 0.5\n",
    "sigma3 = 1.5\n",
    "w2 = 0.25\n",
    "\n",
    "data = df[1].values\n",
    "# Define the likelihood function\n",
    "def likelihood(params):\n",
    "    mu3, w1, w3 = params\n",
    "    w1 = max(0, w1) # Ensure that w1 is non-negative\n",
    "    w3 = max(0, w3) # Ensure that w3 is non-negative\n",
    "    w1 = min(1, w1) # Ensure that w1 is less than or equal to 1\n",
    "    w3 = min(1, w3) # Ensure that w3 is less than or equal to 1\n",
    "    w1 = min(1 - w2, w1) # Ensure that w1 + w2 is less than or equal to 1\n",
    "    w3 = min(1 - w2, w3) # Ensure that w3 + w2 is less than or equal to 1\n",
    "    l = 0\n",
    "    for x in data:\n",
    "        l += np.log(w1 * norm.pdf(x, mu1, sigma1) + w2 * norm.pdf(x, mu2, sigma2) + w3 * norm.pdf(x, mu3, sigma3))\n",
    "    return -l # Return the negative likelihood to minimize it\n",
    "\n",
    "# Initialize the starting values for mu3, w1, and w3\n",
    "x0 = [6, 0.5, 0.5]\n",
    "\n",
    "# Define the constraint that the sum of w1, w2, and w3 must equal 1\n",
    "constraints = [\n",
    "    {'type': 'ineq', 'fun': lambda x: x[0]},  # mu3 must be positive\n",
    "    {'type': 'ineq', 'fun': lambda x: x[1]},  # w1 must be positive\n",
    "    {'type': 'ineq', 'fun': lambda x: x[2]},  # w3 must be positive\n",
    "    {'type': 'eq', 'fun': lambda x: x[1] + x[2] + w2 - 1}  # The sum of w1, w2, and w3 must equal 1\n",
    "]\n",
    "# Minimize the likelihood function using the SLSQP optimization algorithm\n",
    "res = minimize(likelihood, x0, method='SLSQP', constraints=constraints)\n",
    "\n",
    "# Extract the estimated values for mu3, w1, and w3 from the optimization result\n",
    "mu3_est, w1_est, w3_est = res.x\n",
    "\n",
    "print(f'''mu3 = {round(mu3_est,2)}\\nw1 = {round(w1_est,3)}\\nw3 = {round(w3_est,3)}''')"
   ]
  },
  {
   "cell_type": "markdown",
   "metadata": {},
   "source": [
    "This code defines the likelihood function as the sum of the log probabilities of the data points under the GMD with the given parameters. The likelihood function is then minimized using the Nelder-Mead optimization algorithm to find the values of 𝜇3, 𝑤1, and 𝑤3 that maximize the likelihood.\n",
    "\n",
    "Note that we have included some constraints in the likelihood function to ensure that the values of 𝑤1, 𝑤2, 𝑤3 are non-negative and sum to 1, which are necessary conditions for valid probability weights."
   ]
  },
  {
   "cell_type": "markdown",
   "metadata": {},
   "source": [
    "---\n",
    "#### Second method - EM"
   ]
  },
  {
   "cell_type": "code",
   "execution_count": 34,
   "metadata": {},
   "outputs": [],
   "source": [
    "#initial data\n",
    "loc1 = 4\n",
    "loc2 = 9\n",
    "scale1 = scale2 = 0.5\n",
    "scale3 = 1.5\n",
    "w2 = 0.25\n",
    "\n",
    "#guess\n",
    "w1 = 0.5\n",
    "loc3 = 0\n",
    "\n",
    "w3 = 1 - w1 - w2\n",
    "\n",
    "#get x value from provided GMD.csv\n",
    "x=np.array(df)"
   ]
  },
  {
   "cell_type": "code",
   "execution_count": 35,
   "metadata": {},
   "outputs": [
    {
     "name": "stdout",
     "output_type": "stream",
     "text": [
      "mu3 = 15.11\n",
      "w1 = 0.125\n",
      "w3 = 0.625\n"
     ]
    }
   ],
   "source": [
    "for i in range(1000):\n",
    "    #E part\n",
    "    d1 = stats.norm(loc=loc1, scale=scale1)\n",
    "    d2 = stats.norm(loc=loc2, scale=scale2)\n",
    "    d3 = stats.norm(loc=loc3, scale=scale3)\n",
    "\n",
    "    #calculate responsibilities\n",
    "    r_d1 = w1*d1.pdf(x)\n",
    "    r_d2 = w2*d2.pdf(x)\n",
    "    r_d3 = w3*d3.pdf(x)\n",
    "    r = r_d1+r_d2+r_d3\n",
    "\n",
    "    r_d1 = r_d1/r\n",
    "    r_d2 = r_d2/r\n",
    "    r_d3 = r_d3/r\n",
    "\n",
    "    #update new parameter\n",
    "    w1 = r_d1.mean()\n",
    "    w3 = 1 - w2 - w1\n",
    "    loc3 = 1/w3*((r_d3*x).mean())\n",
    "\n",
    "#output the result\n",
    "print(f'''mu3 = {round(loc3,2)}\\nw1 = {round(w1,3)}\\nw3 = {round(w3,3)}''')"
   ]
  },
  {
   "cell_type": "markdown",
   "metadata": {},
   "source": [
    "#### 3.B\n",
    "Plot a graph of the pdf of the distribution you inferred. Select adequate limits for the axes for this plot and explain your decision."
   ]
  },
  {
   "cell_type": "markdown",
   "metadata": {},
   "source": [
    "For Gaussian distribtuoins, we see from Chebichev' Theorem that for $P(\\mu - 2 \\sigma \\leq X \\leq \\mu + 2 \\sigma )$, it will cover around 95%.\n",
    "  \n",
    "For $P(\\mu - 3 \\sigma \\leq X \\leq \\mu + 3 \\sigma)$, it will cover around 99.7%.\n",
    "We use the formula below to calculate the $\\mu$ and $\\sigma$ of our GMM to set the limits of our x-axis.\n",
    "$$\\mu_{GMM}=w_1\\mu_1+w_2\\mu_2+w_3\\mu_3$$  \n",
    "$$\\sigma_{GMM}^2=w_1\\sigma_1^2 + w_2\\sigma_2^2 + w_3\\sigma_3^2  +w_1(\\mu_1 - \\mu_{GMM})^2 + w_2(\\mu_2 - \\mu_{GMM})^2 + w_3(\\mu_3 - \\mu_{GMM})^2$$  "
   ]
  },
  {
   "cell_type": "code",
   "execution_count": 36,
   "metadata": {},
   "outputs": [],
   "source": [
    "#initial data\n",
    "loc1 = 4\n",
    "loc2 = 9\n",
    "scale1 = scale2 = 0.5\n",
    "scale3 = 1.5\n",
    "w2 = 0.25\n",
    "loc3 = 15.11\n",
    "w1 = 0.125\n",
    "w3 = 0.625"
   ]
  },
  {
   "cell_type": "code",
   "execution_count": 37,
   "metadata": {},
   "outputs": [],
   "source": [
    "mu = w1 * loc1 + w2 * loc2 + w3 * loc3\n",
    "sigma = w1 * scale1**2 + w2 * scale2**2 + w3 * scale3**2 + w1 * (loc1 - mu)**2 + w2 * (loc2 - mu)**2 + w3 * (loc3 - mu)**2"
   ]
  },
  {
   "cell_type": "markdown",
   "metadata": {},
   "source": [
    "$P(\\mu - 2 \\sigma \\leq X \\leq \\mu + 2 \\sigma )\\approx 95\\% $"
   ]
  },
  {
   "cell_type": "code",
   "execution_count": 38,
   "metadata": {},
   "outputs": [
    {
     "name": "stdout",
     "output_type": "stream",
     "text": [
      "lower bound is -5.56, upper bound is 29.95\n"
     ]
    }
   ],
   "source": [
    "print(f'''lower bound is {round(mu-2*(sigma**1/2),2)}, upper bound is {round(mu+2*(sigma**1/2),2)}''')"
   ]
  },
  {
   "cell_type": "markdown",
   "metadata": {},
   "source": [
    "$P(\\mu - 3 \\sigma \\leq X \\leq \\mu + 3 \\sigma )\\approx 99.7\\% $"
   ]
  },
  {
   "cell_type": "code",
   "execution_count": 39,
   "metadata": {},
   "outputs": [
    {
     "name": "stdout",
     "output_type": "stream",
     "text": [
      "lower bound is -14.44, upper bound is 38.83\n"
     ]
    }
   ],
   "source": [
    "print(f'''lower bound is {round(mu-3*(sigma**1/2),2)}, upper bound is {round(mu+3*(sigma**1/2),2)}''')"
   ]
  },
  {
   "cell_type": "markdown",
   "metadata": {},
   "source": [
    "At first, we thought the more percent of points we covered in gragh is better. But after saw the gragh with $\\mu \\pm 3\\sigma$, the main part of GMM was compressed on the right side.   \n",
    "In order to see the main part clearly, finally, we choose to lose $4\\%$ of data, using $\\mu \\pm 2\\sigma$ as our x-axis."
   ]
  },
  {
   "cell_type": "code",
   "execution_count": 40,
   "metadata": {},
   "outputs": [
    {
     "name": "stderr",
     "output_type": "stream",
     "text": [
      "/dsp/anaconda3/lib/python3.8/site-packages/seaborn/distributions.py:2619: FutureWarning: `distplot` is a deprecated function and will be removed in a future version. Please adapt your code to use either `displot` (a figure-level function with similar flexibility) or `histplot` (an axes-level function for histograms).\n",
      "  warnings.warn(msg, FutureWarning)\n"
     ]
    },
    {
     "data": {
      "image/png": "[encoded data removed]",
      "text/plain": [
       "<Figure size 864x288 with 1 Axes>"
      ]
     },
     "metadata": {
      "needs_background": "light"
     },
     "output_type": "display_data"
    }
   ],
   "source": [
    "#initial data\n",
    "loc1 = 4\n",
    "loc2 = 9\n",
    "scale1 = scale2 = 0.5\n",
    "scale3 = 1.5\n",
    "w2 = 0.25\n",
    "loc3 = 15.11\n",
    "w1 = 0.125\n",
    "w3 = 0.625\n",
    "# generate 3 gaussians\n",
    "d1 = stats.norm.rvs(loc=loc1, scale=scale1, size=10000)\n",
    "d2 = stats.norm.rvs(loc=loc2, scale=scale2, size=10000)\n",
    "d3 = stats.norm.rvs(loc=loc3, scale=scale3, size=10000)\n",
    "# create the gmm data}\n",
    "gmm_data = []\n",
    "for i in range(10000):\n",
    "    p = stats.uniform.rvs(size=1)\n",
    "    if p < w1:\n",
    "        gmm_data.append(np.random.choice(a=d1, size=1))\n",
    "    elif p < (w1+w2):\n",
    "        gmm_data.append(np.random.choice(a=d2, size=1))\n",
    "    else:\n",
    "        gmm_data.append(np.random.choice(a=d3, size=1))\n",
    "# plot gmm.\n",
    "label_gmm = 'f(x)={}*N({},{})+{}*N({},{})+{}*N({},{})'.format(w1,loc1,scale1,w2,loc2,scale2,w3,int(loc3),scale3)\n",
    "fig = plt.figure(figsize=(12, 4))\n",
    "sns.distplot(gmm_data, label=label_gmm)\n",
    "plt.title('GMM')\n",
    "plt.legend()\n",
    "plt.xticks(np.arange(-6,30))\n",
    "plt.yticks([0, 0.05, 0.1, 0.15, 0.2])\n",
    "plt.show()"
   ]
  },
  {
   "cell_type": "markdown",
   "metadata": {},
   "source": [
    "#### 3.C\n",
    "Now assume that the data comes from a Gaussian mixture distribution (GMD) with $k=4$.\n",
    "\n",
    "The given data and parameters stay the same.\n",
    "\n",
    "Can you estimate the unknown parameters in the two ways described in section A? Explain."
   ]
  },
  {
   "cell_type": "markdown",
   "metadata": {},
   "source": [
    "##### Use MLE to estimate"
   ]
  },
  {
   "cell_type": "markdown",
   "metadata": {},
   "source": [
    "We can do it. \n",
    "\n",
    "We'll just have to change our parameters accordingly"
   ]
  },
  {
   "cell_type": "code",
   "execution_count": 41,
   "metadata": {},
   "outputs": [
    {
     "name": "stderr",
     "output_type": "stream",
     "text": [
      "<ipython-input-41-e918e71de895>:18: RuntimeWarning: invalid value encountered in log\n",
      "  l += np.log(w1 * norm.pdf(x, mu1, sigma1) + w2 * norm.pdf(x, mu2, sigma2) + w3 * norm.pdf(x, mu3, sigma3) + w4 * norm.pdf(x, mu4, sigma4))\n"
     ]
    },
    {
     "name": "stdout",
     "output_type": "stream",
     "text": [
      "mu3 = 15.14\n",
      "mu4 = 15.04\n",
      "sigma4 = 1.51\n",
      "w1 = 0.125\n",
      "w3 = 0.372\n",
      "w4 = 0.253\n",
      "\n"
     ]
    }
   ],
   "source": [
    "from scipy.optimize import minimize\n",
    "import numpy as np\n",
    "\n",
    "# Define the means, standard deviations, and weights for the three components of the GMD\n",
    "mu1 = 4\n",
    "mu2 = 9\n",
    "sigma1 = 0.5\n",
    "sigma2 = 0.5\n",
    "sigma3 = 1.5\n",
    "w2 = 0.25\n",
    "\n",
    "data = df[1].values\n",
    "# Define the likelihood function\n",
    "def likelihood(params):\n",
    "    mu3, mu4, sigma4, w1, w3, w4 = params\n",
    "    l = 0\n",
    "    for x in data:\n",
    "        l += np.log(w1 * norm.pdf(x, mu1, sigma1) + w2 * norm.pdf(x, mu2, sigma2) + w3 * norm.pdf(x, mu3, sigma3) + w4 * norm.pdf(x, mu4, sigma4))\n",
    "    return -l # Return the negative likelihood to minimize it\n",
    "\n",
    "# Initialize the starting values\n",
    "x0 = [6, 5, 1., 0.15, 0.1, 0.5]\n",
    "\n",
    "constraints = [\n",
    "    {'type': 'ineq', 'fun': lambda x: x[0]},  # mu3 must be positive\n",
    "    {'type': 'ineq', 'fun': lambda x: x[1]},  # mu4 must be positive\n",
    "    {'type': 'ineq', 'fun': lambda x: x[2]},  # sigma4 must be positive\n",
    "    {'type': 'ineq', 'fun': lambda x: x[3]},  # w1 must be positive\n",
    "    {'type': 'ineq', 'fun': lambda x: x[4]},  # w3 must be positive\n",
    "    {'type': 'ineq', 'fun': lambda x: x[5]},  # w4 must be positive\n",
    "    {'type': 'eq', 'fun': lambda x: x[3] + x[4] + x[5] + w2 - 1}  # The sum of w1, w2, w3 and w4 must equal 1\n",
    "]\n",
    "# Minimize the likelihood function using the SLSQP optimization algorithm\n",
    "res = minimize(likelihood, x0, method='SLSQP', constraints=constraints)\n",
    "\n",
    "# Extract the estimated values for mu3, w1, and w3 from the optimization result\n",
    "mu3_est, mu4_est, sigma4_est, w1_est, w3_est, w4_est= res.x\n",
    "\n",
    "print(f'''mu3 = {round(mu3_est,2)}\\nmu4 = {round(mu4_est,2)}\\nsigma4 = {round(sigma4_est,2)}\\nw1 = {round(w1_est,3)}\\nw3 = {round(w3_est,3)}\\nw4 = {round(w4_est,3)}\\n''')"
   ]
  },
  {
   "cell_type": "markdown",
   "metadata": {},
   "source": [
    "##### Use EM to estimate"
   ]
  },
  {
   "cell_type": "markdown",
   "metadata": {},
   "source": [
    "We can also use EM to estimate. We need to notice that the estimated result depends on the initial data we guessed."
   ]
  },
  {
   "cell_type": "code",
   "execution_count": 42,
   "metadata": {},
   "outputs": [
    {
     "name": "stdout",
     "output_type": "stream",
     "text": [
      "w1=0.125, loc1=4, scale1=0.5\n",
      "w2=0.25, loc2=9, scale2=0.5\n",
      "w3=0.493, loc3=15.2, scale3=1.5\n",
      "w4=0.132, loc4=14.9, scale4=1.59\n"
     ]
    }
   ],
   "source": [
    "#initial data\n",
    "loc1 = 4\n",
    "loc2 = 9\n",
    "scale1 = scale2 = 0.5\n",
    "scale3 = 1.5\n",
    "w2 = 0.25\n",
    "\n",
    "#guess\n",
    "loc3 = 15\n",
    "loc4 = 15\n",
    "scale4 = 2\n",
    "w1 = 0.3\n",
    "w4 = 0.1\n",
    "\n",
    "w3 = 1 - w1 - w2 - w4\n",
    "\n",
    "#get x value from provided GMD.csv\n",
    "x=np.array(df)\n",
    "\n",
    "for i in range(10):\n",
    "    #E part\n",
    "    d1 = stats.norm(loc=loc1, scale=scale1)\n",
    "    d2 = stats.norm(loc=loc2, scale=scale2)\n",
    "    d3 = stats.norm(loc=loc3, scale=scale3)\n",
    "    d4 = stats.norm(loc=loc4, scale=scale4)\n",
    "\n",
    "    #calculate responsibilities\n",
    "    r_d1 = w1*d1.pdf(x)\n",
    "    r_d2 = w2*d2.pdf(x)\n",
    "    r_d3 = w3*d3.pdf(x)\n",
    "    r_d4 = w4*d4.pdf(x)\n",
    "    r = r_d1+r_d2+r_d3+r_d4\n",
    "\n",
    "    r_d1 = r_d1/r\n",
    "    r_d2 = r_d2/r\n",
    "    r_d3 = r_d3/r\n",
    "    r_d4 = r_d4/r\n",
    "\n",
    "    #update new parameter\n",
    "    w1 = r_d1.mean()\n",
    "    w4 = r_d4.mean()\n",
    "    w3 = 1 - w2 - w1 - w4\n",
    "    loc3 = 1/w3*((r_d3*x).mean())\n",
    "    loc4 = 1/w4*((r_d4*x).mean())\n",
    "    scale4 = math.sqrt(1/w4*((r_d4*(x-loc4)**2).mean()))\n",
    "\n",
    "w1 = round(w1, 3)\n",
    "w3 = round(w3, 3)\n",
    "w4 = round(w4, 3)\n",
    "loc3 = round(loc3, 1)\n",
    "loc4 = round(loc4, 1)\n",
    "scale4 = round(scale4, 2)\n",
    "print('w1={}, loc1={}, scale1={}\\nw2={}, loc2={}, scale2={}\\nw3={}, loc3={}, scale3={}\\nw4={}, loc4={}, scale4={}'.format(w1,loc1,scale1,w2,loc2,scale2,w3,loc3,scale3,w4,loc4,scale4))"
   ]
  },
  {
   "cell_type": "markdown",
   "metadata": {},
   "source": [
    "#### 3.D\n",
    "Describe two ways for generating data for a GMM random variable with:\n",
    "* centers at  $\\mu_1=3, \\mu_2=7, \\mu_3=10$\n",
    "* $\\sigma_1=\\sigma_2=\\sigma_3=1$\n",
    "* $w_1=w_2=w_3=0.33$"
   ]
  },
  {
   "cell_type": "code",
   "execution_count": 43,
   "metadata": {},
   "outputs": [],
   "source": [
    "#set the parameters\n",
    "loc1, loc2, loc3 = 3, 7, 10\n",
    "scale1, scale2, scale3 = 1, 1, 1\n",
    "w1, w2, w3 = 1/3, 1/3, 1/3"
   ]
  },
  {
   "cell_type": "markdown",
   "metadata": {},
   "source": [
    "##### One way is generating the data from three Gaussian distribution sperately. Then using numpy to concatenate data.  \n",
    "  \n",
    "##### The other way is using definition of GMM. First we choose one Gaussian distribution by their own weight(probability), then pick one point from that distribution."
   ]
  },
  {
   "cell_type": "markdown",
   "metadata": {},
   "source": [
    "#### 3.E\n",
    "Use one of the above approaches to generate 1000 points and plot a histogram of the result (decide on bins, axes etc)\n"
   ]
  },
  {
   "cell_type": "code",
   "execution_count": 44,
   "metadata": {},
   "outputs": [
    {
     "name": "stderr",
     "output_type": "stream",
     "text": [
      "/dsp/anaconda3/lib/python3.8/site-packages/seaborn/distributions.py:2619: FutureWarning: `distplot` is a deprecated function and will be removed in a future version. Please adapt your code to use either `displot` (a figure-level function with similar flexibility) or `histplot` (an axes-level function for histograms).\n",
      "  warnings.warn(msg, FutureWarning)\n"
     ]
    },
    {
     "data": {
      "text/plain": [
       "Text(0.5, 1.0, 'Concatenated Distributions')"
      ]
     },
     "execution_count": 44,
     "metadata": {},
     "output_type": "execute_result"
    },
    {
     "data": {
      "image/png": "[encoded data removed]",
      "text/plain": [
       "<Figure size 1152x432 with 1 Axes>"
      ]
     },
     "metadata": {
      "needs_background": "light"
     },
     "output_type": "display_data"
    }
   ],
   "source": [
    "#way1--concatenate\n",
    "\n",
    "d1 = stats.norm.rvs(loc=loc1, scale=scale1, size=333)\n",
    "d2 = stats.norm.rvs(loc=loc2, scale=scale2, size=333)\n",
    "d3 = stats.norm.rvs(loc=loc3, scale=scale3, size=334)\n",
    "\n",
    "fig, ax = plt.subplots(1, 1, figsize=(16, 6))\n",
    "concated_arrays = np.concatenate([d1,d2,d3])\n",
    "sns.distplot(concated_arrays, bins=50)\n",
    "ax.set_title('Concatenated Distributions')"
   ]
  },
  {
   "cell_type": "markdown",
   "metadata": {},
   "source": [
    "#### 3.F\n",
    "Use the other one to generate 1000 more points and draw two comparative histograms."
   ]
  },
  {
   "cell_type": "code",
   "execution_count": 45,
   "metadata": {},
   "outputs": [],
   "source": [
    "#way2--GMM\n",
    "# create the gmm data}\n",
    "gmm_data = []\n",
    "for i in range(1000):\n",
    "    p = stats.uniform.rvs(size=1)\n",
    "    if p < w1:\n",
    "        gmm_data.append(np.random.choice(a=d1, size=1))\n",
    "    elif p < (w2+w1):\n",
    "        gmm_data.append(np.random.choice(a=d2, size=1))\n",
    "    else:\n",
    "        gmm_data.append(np.random.choice(a=d3, size=1))"
   ]
  },
  {
   "cell_type": "code",
   "execution_count": 46,
   "metadata": {},
   "outputs": [
    {
     "name": "stderr",
     "output_type": "stream",
     "text": [
      "/dsp/anaconda3/lib/python3.8/site-packages/seaborn/distributions.py:2619: FutureWarning: `distplot` is a deprecated function and will be removed in a future version. Please adapt your code to use either `displot` (a figure-level function with similar flexibility) or `histplot` (an axes-level function for histograms).\n",
      "  warnings.warn(msg, FutureWarning)\n",
      "/dsp/anaconda3/lib/python3.8/site-packages/seaborn/distributions.py:2619: FutureWarning: `distplot` is a deprecated function and will be removed in a future version. Please adapt your code to use either `displot` (a figure-level function with similar flexibility) or `histplot` (an axes-level function for histograms).\n",
      "  warnings.warn(msg, FutureWarning)\n"
     ]
    },
    {
     "data": {
      "image/png": "[encoded data removed]",
      "text/plain": [
       "<Figure size 1152x432 with 1 Axes>"
      ]
     },
     "metadata": {
      "needs_background": "light"
     },
     "output_type": "display_data"
    }
   ],
   "source": [
    "# plot gmm\n",
    "label_gmm = 'GMM'\n",
    "label_con = 'Concatenated'\n",
    "fig = plt.figure(figsize=(16, 6))\n",
    "sns.distplot(gmm_data, bins=50, label=label_gmm)\n",
    "sns.distplot(concated_arrays, bins=50, label=label_con)\n",
    "plt.title('Concatenated Distributions vs GMM')\n",
    "plt.legend()\n",
    "plt.show()"
   ]
  },
  {
   "cell_type": "markdown",
   "metadata": {},
   "source": [
    "### Question 4 - Normally distributed salaries"
   ]
  },
  {
   "cell_type": "markdown",
   "metadata": {},
   "source": [
    "The annual salaries of employees in a large Randomistan company are approximateley normally distributed with a mean of 75,000 RCU and a standard deviation of 37,500 RCU."
   ]
  },
  {
   "cell_type": "code",
   "execution_count": 47,
   "metadata": {},
   "outputs": [],
   "source": [
    "u = 75000\n",
    "std = 37500\n",
    "dist = stats.norm(loc=u, scale=std)"
   ]
  },
  {
   "cell_type": "markdown",
   "metadata": {},
   "source": [
    "#### 4.A\n",
    "What percent of people earn less than 50,000 RCU?"
   ]
  },
  {
   "cell_type": "code",
   "execution_count": 48,
   "metadata": {},
   "outputs": [],
   "source": [
    "a = dist.cdf(50000)"
   ]
  },
  {
   "cell_type": "code",
   "execution_count": 49,
   "metadata": {},
   "outputs": [
    {
     "name": "stdout",
     "output_type": "stream",
     "text": [
      "The percent is 25.249%\n"
     ]
    }
   ],
   "source": [
    "print(f'''The percent is {round((a*100),3)}%''')"
   ]
  },
  {
   "cell_type": "markdown",
   "metadata": {},
   "source": [
    "#### 4.B\n",
    "What percent of people earn between 45,000 RCU and 65,000 RCU?"
   ]
  },
  {
   "cell_type": "code",
   "execution_count": 50,
   "metadata": {},
   "outputs": [],
   "source": [
    "b = dist.cdf(65000) - dist.cdf(45000)"
   ]
  },
  {
   "cell_type": "code",
   "execution_count": 51,
   "metadata": {},
   "outputs": [
    {
     "name": "stdout",
     "output_type": "stream",
     "text": [
      "The percent is 18.301%\n"
     ]
    }
   ],
   "source": [
    "print(f'''The percent is {round((b*100),3)}%''')"
   ]
  },
  {
   "cell_type": "markdown",
   "metadata": {},
   "source": [
    "#### 4.C\n",
    "What percent of people earn more than 85,000 RCU?"
   ]
  },
  {
   "cell_type": "code",
   "execution_count": 52,
   "metadata": {},
   "outputs": [],
   "source": [
    "c = 1 - dist.cdf(85000)"
   ]
  },
  {
   "cell_type": "code",
   "execution_count": 53,
   "metadata": {},
   "outputs": [
    {
     "name": "stdout",
     "output_type": "stream",
     "text": [
      "The percent is 39.486%\n"
     ]
    }
   ],
   "source": [
    "print(f'''The percent is {round((c*100),3)}%''')"
   ]
  },
  {
   "cell_type": "markdown",
   "metadata": {},
   "source": [
    "#### 4.D\n",
    "The company has 1000 employees. How many employees in the company do you expect to earn more than 140,000 RCU?"
   ]
  },
  {
   "cell_type": "code",
   "execution_count": 54,
   "metadata": {},
   "outputs": [],
   "source": [
    "d = (1 - dist.cdf(140000))*1000"
   ]
  },
  {
   "cell_type": "code",
   "execution_count": 55,
   "metadata": {},
   "outputs": [
    {
     "name": "stdout",
     "output_type": "stream",
     "text": [
      "41 employees\n"
     ]
    }
   ],
   "source": [
    "print(f'''{int(d)} employees''')"
   ]
  },
  {
   "cell_type": "markdown",
   "metadata": {},
   "source": [
    "### Question 5 - Coupon collector"
   ]
  },
  {
   "cell_type": "markdown",
   "metadata": {},
   "source": [
    "Let $T_{N}$ denote the waiting time for full single coupon collection with N different equiprobable coupon types"
   ]
  },
  {
   "cell_type": "markdown",
   "metadata": {},
   "source": [
    "#### 5.A\n",
    "Write code to compute the exact value of $E(T_{N})$"
   ]
  },
  {
   "cell_type": "markdown",
   "metadata": {},
   "source": [
    "$$E(T_{N})=NH(N)$$"
   ]
  },
  {
   "cell_type": "code",
   "execution_count": 56,
   "metadata": {},
   "outputs": [],
   "source": [
    "#harmonic\n",
    "def H(n):\n",
    "    H = 0\n",
    "    for i in range(1, n+1):\n",
    "        H = H + 1/i\n",
    "    return H"
   ]
  },
  {
   "cell_type": "code",
   "execution_count": 57,
   "metadata": {},
   "outputs": [],
   "source": [
    "def exp_Tn(N):\n",
    "    return N*H(N)"
   ]
  },
  {
   "cell_type": "code",
   "execution_count": 58,
   "metadata": {},
   "outputs": [
    {
     "data": {
      "text/plain": [
       "518.737751763962"
      ]
     },
     "execution_count": 58,
     "metadata": {},
     "output_type": "execute_result"
    }
   ],
   "source": [
    "exp_Tn(100)"
   ]
  },
  {
   "cell_type": "markdown",
   "metadata": {},
   "source": [
    "#### 5.B\n",
    "Write code to compute the exact value of $V(T_{N})$"
   ]
  },
  {
   "cell_type": "markdown",
   "metadata": {},
   "source": [
    "Since coupon collection are independent, we have:  \n",
    "$$V(T_{N})=V(X_{1}+X_{2}+...+X_{n})=\\sum_{i=0}^{N}V(X_{i})$$  \n",
    "$$X_{i}\\sim G(p), V(X_{i})=\\frac{1-p}{p^2},p=\\frac{N-i+1}{N}$$  "
   ]
  },
  {
   "cell_type": "code",
   "execution_count": 59,
   "metadata": {},
   "outputs": [],
   "source": [
    "def var_Tn(N):\n",
    "    var = 0\n",
    "    for i in range(1, N+1):\n",
    "        p=(N-i+1)/N\n",
    "        var = var + (1-p)/(p)**2\n",
    "    return var"
   ]
  },
  {
   "cell_type": "code",
   "execution_count": 60,
   "metadata": {},
   "outputs": [
    {
     "data": {
      "text/plain": [
       "4844.767973767466"
      ]
     },
     "execution_count": 60,
     "metadata": {},
     "output_type": "execute_result"
    }
   ],
   "source": [
    "var_Tn(56)"
   ]
  },
  {
   "cell_type": "markdown",
   "metadata": {},
   "source": [
    "#### 5.C\n",
    "Write code to exactly compute $P(T_{30}>60)$"
   ]
  },
  {
   "cell_type": "markdown",
   "metadata": {},
   "source": [
    "$$P(T_{30}>60)=1-P(T_{30}\\leq 60)$$  \n",
    "$$P(T_{30}\\leq 60)=P(T_{30}=30)+P(T_{30}=31)+...+P(T_{30}=60)$$  "
   ]
  },
  {
   "cell_type": "markdown",
   "metadata": {},
   "source": [
    "As what we saw in lecture:  \n",
    "$$P(T_{N}=k)=\\sum_{i=1}^{k-1}P(G_{N}=i)P(T_{N-1}=k-i)$$   \n",
    "We need redefine the formula as following:\n",
    "$$P(T_{N,n}=k)=\\sum_{i=1}^{k-n+1}P(G_{N,n}=i)P(T_{N,n-1}=k-i)$$  \n",
    "$$P(T_{N,n-1}=k)=\\sum_{i=1}^{k-n}P(G_{N,n-1}=i)P(T_{N,n-2}=k-i)$$  \n",
    "$P(T_{N,n-1}=k)$ means $N$ different kinds of coupon in total, after picked $k$ times, we got $n-1$ different coupon  \n",
    "  \n",
    "$P(G_{N,n}=i)$ means $N$ different kinds of coupon in total, after picked $i$ times for $n-th$ coupon,  \n",
    "  \n",
    "which is geometric distribution, $P(G_{N,n}=i)=(1-p)^{i-1}p,p=\\frac{N-n+1}{N}$  "
   ]
  },
  {
   "cell_type": "code",
   "execution_count": 61,
   "metadata": {},
   "outputs": [],
   "source": [
    "# optimize version\n",
    "# N different kinds of coupon in total, pick k times, and have n different kinds of coupon in hand\n",
    "def PTk(N, n, k):\n",
    "    T = np.zeros(k)\n",
    "    T[0]=1\n",
    "    k = np.arange(k) + 1\n",
    "    for i in range (1, n):\n",
    "        T = np.convolve(geom(N, n-i+1, k), T)\n",
    "    return T"
   ]
  },
  {
   "cell_type": "code",
   "execution_count": 62,
   "metadata": {},
   "outputs": [],
   "source": [
    "#sum P(TN=k)\n",
    "def TN_greater_k(N, k):\n",
    "    n=N\n",
    "    return 1-PTk(N,n,k)[:k-n+1].sum()\n",
    "#geom: N different kinds of coupon in total, pick k times for the n-th coupon\n",
    "def geom(N, n, k):\n",
    "    return stats.geom.pmf(k, (N-n+1)/N)"
   ]
  },
  {
   "cell_type": "code",
   "execution_count": 63,
   "metadata": {},
   "outputs": [
    {
     "name": "stdout",
     "output_type": "stream",
     "text": [
      "Probability is 99.402%\n",
      "CPU times: user 12.2 ms, sys: 2.03 ms, total: 14.2 ms\n",
      "Wall time: 11.5 ms\n"
     ]
    }
   ],
   "source": [
    "%%time\n",
    "print(f'''Probability is {round(((TN_greater_k(30, k=60))*100),3)}%''')"
   ]
  },
  {
   "cell_type": "markdown",
   "metadata": {},
   "source": [
    "---\n",
    "#### 5.D\n",
    "Let $S_N$ denote the waiting time until $N/2$ different coupons are collected.\n",
    "\n",
    "Write code to exactly compute $P(S_{30}>60)$"
   ]
  },
  {
   "cell_type": "markdown",
   "metadata": {},
   "source": [
    "We can use the $PTk$ function in second way of 5.C directly by changing $n=N/2$"
   ]
  },
  {
   "cell_type": "code",
   "execution_count": 64,
   "metadata": {},
   "outputs": [],
   "source": [
    "def SN_greater_k(N, k):\n",
    "    n=int(N/2)\n",
    "    return 1-PTk(N,n,k)[:k-n+1].sum()"
   ]
  },
  {
   "cell_type": "code",
   "execution_count": 65,
   "metadata": {},
   "outputs": [
    {
     "name": "stdout",
     "output_type": "stream",
     "text": [
      "CPU times: user 8 µs, sys: 2 µs, total: 10 µs\n",
      "Wall time: 18.1 µs\n"
     ]
    },
    {
     "data": {
      "text/plain": [
       "1.7145174169286292e-12"
      ]
     },
     "execution_count": 65,
     "metadata": {},
     "output_type": "execute_result"
    }
   ],
   "source": [
    "#because the result is too small, no need use format of round and %\n",
    "%time\n",
    "SN_greater_k(30, 60)"
   ]
  }
 ],
 "metadata": {
  "kernelspec": {
   "display_name": "Python 3",
   "language": "python",
   "name": "python3"
  },
  "language_info": {
   "codemirror_mode": {
    "name": "ipython",
    "version": 3
   },
   "file_extension": ".py",
   "mimetype": "text/x-python",
   "name": "python",
   "nbconvert_exporter": "python",
   "pygments_lexer": "ipython3",
   "version": "3.8.13"
  }
 },
 "nbformat": 4,
 "nbformat_minor": 4
}
